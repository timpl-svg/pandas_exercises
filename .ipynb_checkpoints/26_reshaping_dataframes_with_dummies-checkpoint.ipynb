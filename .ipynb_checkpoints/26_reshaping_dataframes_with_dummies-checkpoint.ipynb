{
 "cells": [
  {
   "cell_type": "code",
   "execution_count": 8,
   "id": "030f9031-3dfb-490b-9545-5de4d6ba3f27",
   "metadata": {},
   "outputs": [],
   "source": [
    "import pandas as pd\n",
    "\n",
    "jb = pd.read_csv('datasets/2020-jetbrains-python-survey.csv', low_memory=False)\n",
    "\n",
    "job = jb.filter(like=r'job.role').where(jb.isna(), 1).fillna(0).idxmax(axis='columns').str.replace('job.role.', '', regex=False)"
   ]
  },
  {
   "cell_type": "markdown",
   "id": "61ab10d5-0187-4625-9db4-3f03de098543",
   "metadata": {},
   "source": [
    "1. Create dummy columns derived from a string column"
   ]
  },
  {
   "cell_type": "code",
   "execution_count": 11,
   "id": "5fb907b0-b9c0-42e7-88c4-c5cfdc0fbfaf",
   "metadata": {},
   "outputs": [
    {
     "name": "stdout",
     "output_type": "stream",
     "text": [
      "       Architect  Business analyst  CIO / CEO / CTO  DBA  Data analyst  \\\n",
      "0              0                 1                0    0             0   \n",
      "1              0                 0                0    0             0   \n",
      "2              0                 0                0    0             0   \n",
      "3              0                 0                0    1             0   \n",
      "4              0                 0                0    1             0   \n",
      "...          ...               ...              ...  ...           ...   \n",
      "54457          0                 0                0    0             0   \n",
      "54458          0                 0                0    1             0   \n",
      "54459          0                 0                1    0             0   \n",
      "54460          0                 0                0    0             0   \n",
      "54461          1                 0                0    0             0   \n",
      "\n",
      "       Developer / Programmer  Other  Product manager  QA engineer  \\\n",
      "0                           0      0                0            0   \n",
      "1                           1      0                0            0   \n",
      "2                           1      0                0            0   \n",
      "3                           0      0                0            0   \n",
      "4                           0      0                0            0   \n",
      "...                       ...    ...              ...          ...   \n",
      "54457                       0      0                0            0   \n",
      "54458                       0      0                0            0   \n",
      "54459                       0      0                0            0   \n",
      "54460                       1      0                0            0   \n",
      "54461                       0      0                0            0   \n",
      "\n",
      "       Systems analyst  Team lead  Technical support  Technical writer  \n",
      "0                    0          0                  0                 0  \n",
      "1                    0          0                  0                 0  \n",
      "2                    0          0                  0                 0  \n",
      "3                    0          0                  0                 0  \n",
      "4                    0          0                  0                 0  \n",
      "...                ...        ...                ...               ...  \n",
      "54457                1          0                  0                 0  \n",
      "54458                0          0                  0                 0  \n",
      "54459                0          0                  0                 0  \n",
      "54460                0          0                  0                 0  \n",
      "54461                0          0                  0                 0  \n",
      "\n",
      "[54462 rows x 13 columns]\n"
     ]
    }
   ],
   "source": [
    "dum = pd.get_dummies(job)\n",
    "print(dum)"
   ]
  },
  {
   "cell_type": "markdown",
   "id": "80c0b63d-fef7-49fa-8ddc-9324ae46da42",
   "metadata": {},
   "source": [
    "2. Undo the dummy columns."
   ]
  },
  {
   "cell_type": "code",
   "execution_count": 12,
   "id": "60e54724-83ba-429d-990d-62363f9e7b53",
   "metadata": {},
   "outputs": [
    {
     "data": {
      "text/plain": [
       "0              Business analyst\n",
       "1        Developer / Programmer\n",
       "2        Developer / Programmer\n",
       "3                           DBA\n",
       "4                           DBA\n",
       "                  ...          \n",
       "54457           Systems analyst\n",
       "54458                       DBA\n",
       "54459           CIO / CEO / CTO\n",
       "54460    Developer / Programmer\n",
       "54461                 Architect\n",
       "Length: 54462, dtype: object"
      ]
     },
     "execution_count": 12,
     "metadata": {},
     "output_type": "execute_result"
    }
   ],
   "source": [
    "dum.idxmax(axis='columns')"
   ]
  },
  {
   "cell_type": "code",
   "execution_count": null,
   "id": "56ee8c21-4ad2-4c52-9dae-a01499e39d3a",
   "metadata": {},
   "outputs": [],
   "source": []
  }
 ],
 "metadata": {
  "kernelspec": {
   "display_name": "Python 3 (ipykernel)",
   "language": "python",
   "name": "python3"
  },
  "language_info": {
   "codemirror_mode": {
    "name": "ipython",
    "version": 3
   },
   "file_extension": ".py",
   "mimetype": "text/x-python",
   "name": "python",
   "nbconvert_exporter": "python",
   "pygments_lexer": "ipython3",
   "version": "3.9.10"
  }
 },
 "nbformat": 4,
 "nbformat_minor": 5
}
