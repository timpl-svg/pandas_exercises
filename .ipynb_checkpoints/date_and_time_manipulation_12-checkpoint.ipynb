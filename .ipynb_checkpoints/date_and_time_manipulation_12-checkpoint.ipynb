{
 "cells": [
  {
   "cell_type": "code",
   "execution_count": 7,
   "id": "defc42c6-c5d3-48ef-9733-b723a8ff9163",
   "metadata": {},
   "outputs": [],
   "source": [
    "import pandas as pd\n",
    "import numpy as np"
   ]
  },
  {
   "cell_type": "markdown",
   "id": "abef494b-c03d-439c-86bf-c03984305386",
   "metadata": {},
   "source": [
    "1. Convert a column with date information to a date.\n"
   ]
  },
  {
   "cell_type": "code",
   "execution_count": 4,
   "id": "4882e270-5be3-45f2-8481-a10339c5ee8d",
   "metadata": {},
   "outputs": [
    {
     "name": "stdout",
     "output_type": "stream",
     "text": [
      "0   2015-03-08 08:00:00+00:00\n",
      "1   2015-03-08 08:30:00+00:00\n",
      "2   2015-03-08 09:00:00+00:00\n",
      "dtype: datetime64[ns, UTC]\n"
     ]
    }
   ],
   "source": [
    "string_dates = pd.Series(['2015-03-08 08:00:00+00:00',\n",
    "                          '2015-03-08 08:30:00+00:00',\n",
    "                          '2015-03-08 09:00:00+00:00 '])\n",
    "dates = pd.to_datetime(string_dates)\n",
    "print(dates)"
   ]
  },
  {
   "cell_type": "markdown",
   "id": "2f3af346-6b28-4c7c-8a8d-61cf65dc327f",
   "metadata": {},
   "source": [
    "2. Convert a date column into UTC dates.\n"
   ]
  },
  {
   "cell_type": "code",
   "execution_count": 5,
   "id": "76632702-9a28-4446-be6a-d3e08711cc30",
   "metadata": {},
   "outputs": [
    {
     "name": "stdout",
     "output_type": "stream",
     "text": [
      "0   2015-03-08 08:00:00+00:00\n",
      "1   2015-03-08 08:30:00+00:00\n",
      "2   2015-03-08 09:00:00+00:00\n",
      "dtype: datetime64[ns, UTC]\n"
     ]
    }
   ],
   "source": [
    "utc_dates = dates.dt.tz_convert('UTC')\n",
    "print(utc_dates)"
   ]
  },
  {
   "cell_type": "markdown",
   "id": "ced0ffe7-a949-474c-b480-2a733b8f7291",
   "metadata": {},
   "source": [
    "3. Convert a date column into local dates with a timezone"
   ]
  },
  {
   "cell_type": "code",
   "execution_count": 45,
   "id": "e8249b98-982d-4f50-9ea8-3fa3a0b0d927",
   "metadata": {},
   "outputs": [
    {
     "name": "stdout",
     "output_type": "stream",
     "text": [
      "0   2015-03-08 03:59:57+03:00\n",
      "1   2015-03-08 03:59:57+03:00\n",
      "dtype: datetime64[ns, Europe/Minsk]\n"
     ]
    }
   ],
   "source": [
    "time = pd.Series(['2015-03-08 01:00:00', '2015-03-08 01:00:00'])\n",
    "offset = pd.Series(np.full(time.size, 3))\n",
    "local = pd.to_datetime(time).groupby(offset).transform(lambda s: s.dt.tz_localize(s.name).dt.tz_convert('Europe/Minsk'))\n",
    "print(local)"
   ]
  },
  {
   "cell_type": "markdown",
   "id": "7dec7c78-65af-4ee8-9bb2-83afa2d2a5f6",
   "metadata": {},
   "source": [
    "4. Convert a date column into epoch values."
   ]
  },
  {
   "cell_type": "code",
   "execution_count": 48,
   "id": "bb057d6e-6190-42cb-9193-0b2ec4ec1378",
   "metadata": {},
   "outputs": [
    {
     "name": "stdout",
     "output_type": "stream",
     "text": [
      "0    1.425776e+09\n",
      "1    1.425776e+09\n",
      "dtype: float64\n"
     ]
    }
   ],
   "source": [
    "local_utc = local.dt.tz_convert('UTC')\n",
    "secs = local.apply(lambda x: x.timestamp())\n",
    "print(secs)"
   ]
  },
  {
   "cell_type": "markdown",
   "id": "26e77b71-8d75-4612-bd52-a28a4313bcac",
   "metadata": {},
   "source": [
    "5. Convert an epoch number into UTC"
   ]
  },
  {
   "cell_type": "code",
   "execution_count": 51,
   "id": "b91bb337-4898-443b-adfb-6b0a4b0540fb",
   "metadata": {},
   "outputs": [
    {
     "name": "stdout",
     "output_type": "stream",
     "text": [
      "0   2015-03-08 00:59:57+00:00\n",
      "1   2015-03-08 00:59:57+00:00\n",
      "dtype: datetime64[ns, UTC]\n"
     ]
    }
   ],
   "source": [
    "epoch_to_utc = pd.to_datetime(secs, unit='s').dt.tz_localize('UTC')\n",
    "print(epoch_to_utc)"
   ]
  },
  {
   "cell_type": "code",
   "execution_count": null,
   "id": "be446f0e-a80c-4901-8199-f0185017dbe6",
   "metadata": {},
   "outputs": [],
   "source": []
  }
 ],
 "metadata": {
  "kernelspec": {
   "display_name": "Python 3 (ipykernel)",
   "language": "python",
   "name": "python3"
  },
  "language_info": {
   "codemirror_mode": {
    "name": "ipython",
    "version": 3
   },
   "file_extension": ".py",
   "mimetype": "text/x-python",
   "name": "python",
   "nbconvert_exporter": "python",
   "pygments_lexer": "ipython3",
   "version": "3.9.10"
  }
 },
 "nbformat": 4,
 "nbformat_minor": 5
}
