{
 "cells": [
  {
   "cell_type": "code",
   "execution_count": 10,
   "id": "0184bea9-dbbe-4214-b8fe-1340bf6c51d5",
   "metadata": {},
   "outputs": [
    {
     "name": "stdout",
     "output_type": "stream",
     "text": [
      "   col1  col2  col3\n",
      "0     1     4     7\n",
      "1     2     5     8\n",
      "2     3     6     9\n"
     ]
    }
   ],
   "source": [
    "import pandas as pd\n",
    "\n",
    "df = pd.DataFrame({\n",
    "    'col1' : [1, 2, 3],\n",
    "    'col2' : [4, 5, 6],\n",
    "    'col3' : [7, 8, 9]\n",
    "})\n",
    "print(df)"
   ]
  },
  {
   "cell_type": "markdown",
   "id": "a7bef860-7c3b-46e9-a5a8-192d9cd3e723",
   "metadata": {},
   "source": [
    "1. Loop over each of the rows and calculate the maximum and minimum value."
   ]
  },
  {
   "cell_type": "code",
   "execution_count": 24,
   "id": "2da589a4-2462-48f6-8eaa-a4fa01d5fc0d",
   "metadata": {},
   "outputs": [
    {
     "name": "stdout",
     "output_type": "stream",
     "text": [
      "maximum:\n",
      "0 7\n",
      "1 8\n",
      "2 9\n",
      "minimum:\n",
      "0 1\n",
      "1 2\n",
      "2 3\n"
     ]
    }
   ],
   "source": [
    "print('maximum:')\n",
    "for index, row in df.iterrows():\n",
    "    print(index, row.max())\n",
    "print('minimum:')\n",
    "for index, row in df.iterrows():\n",
    "    print(index, row.min())"
   ]
  },
  {
   "cell_type": "markdown",
   "id": "33a06b59-564c-4ba0-8001-cad3a2fb2951",
   "metadata": {},
   "source": [
    "2. Calculate the maximum and minimum value of each row and column using the .agg method."
   ]
  },
  {
   "cell_type": "code",
   "execution_count": 25,
   "id": "4f5b190d-516e-413a-8eb6-0ab1850aca80",
   "metadata": {},
   "outputs": [
    {
     "name": "stdout",
     "output_type": "stream",
     "text": [
      "col1    3\n",
      "col2    6\n",
      "col3    9\n",
      "dtype: int64\n",
      "col1    1\n",
      "col2    4\n",
      "col3    7\n",
      "dtype: int64\n",
      "0    7\n",
      "1    8\n",
      "2    9\n",
      "dtype: int64\n",
      "0    1\n",
      "1    2\n",
      "2    3\n",
      "dtype: int64\n"
     ]
    }
   ],
   "source": [
    "maximum_cols = df.agg('max')\n",
    "minimum_cols = df.agg('min')\n",
    "maximum_rows = df.agg('max', axis=1)\n",
    "minimum_rows = df.agg('min', axis=1)\n",
    "print(maximum_cols)\n",
    "print(minimum_cols)\n",
    "print(maximum_rows)\n",
    "print(minimum_rows)\n"
   ]
  },
  {
   "cell_type": "markdown",
   "id": "1eff69d5-fd78-415c-9117-d7dfb46f2834",
   "metadata": {},
   "source": [
    "3. Calculate the maximum and minimum value of each row and column using the .apply\n",
    "method."
   ]
  },
  {
   "cell_type": "code",
   "execution_count": 32,
   "id": "f5470081-2418-49cf-9206-fe7d4cc1723f",
   "metadata": {},
   "outputs": [
    {
     "name": "stdout",
     "output_type": "stream",
     "text": [
      "cols min:\n",
      " col1    1\n",
      "col2    4\n",
      "col3    7\n",
      "dtype: int64\n",
      "rows min:\n",
      " 0    1\n",
      "1    2\n",
      "2    3\n",
      "dtype: int64\n",
      "cols max:\n",
      " col1    3\n",
      "col2    6\n",
      "col3    9\n",
      "dtype: int64\n",
      "rows max:\n",
      " 0    7\n",
      "1    8\n",
      "2    9\n",
      "dtype: int64\n"
     ]
    }
   ],
   "source": [
    "def minimum(row):\n",
    "    return row.min()\n",
    "\n",
    "def maximum(row):\n",
    "    return row.max()\n",
    "\n",
    "print('cols min:\\n', df.apply(minimum))\n",
    "print('rows min:\\n', df.apply(minimum, axis=1))\n",
    "print('cols max:\\n', df.apply(maximum))\n",
    "print('rows max:\\n', df.apply(maximum, axis=1))"
   ]
  },
  {
   "cell_type": "code",
   "execution_count": null,
   "id": "42dc01d7-6bed-4dff-b750-c277ebc95ca6",
   "metadata": {},
   "outputs": [],
   "source": []
  }
 ],
 "metadata": {
  "kernelspec": {
   "display_name": "Python 3 (ipykernel)",
   "language": "python",
   "name": "python3"
  },
  "language_info": {
   "codemirror_mode": {
    "name": "ipython",
    "version": 3
   },
   "file_extension": ".py",
   "mimetype": "text/x-python",
   "name": "python",
   "nbconvert_exporter": "python",
   "pygments_lexer": "ipython3",
   "version": "3.9.10"
  }
 },
 "nbformat": 4,
 "nbformat_minor": 5
}
