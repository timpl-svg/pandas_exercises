{
 "cells": [
  {
   "cell_type": "code",
   "execution_count": 1,
   "id": "53056c61-1450-46ae-ab80-c2acbf0b66ea",
   "metadata": {},
   "outputs": [],
   "source": [
    "import pandas as pd\n",
    "import numpy as np\n",
    "\n",
    "arr = np.random.randn(10)\n",
    "s = pd.Series(arr)"
   ]
  },
  {
   "cell_type": "markdown",
   "id": "01512606-b3de-4097-b47c-d4a3c31f1302",
   "metadata": {},
   "source": [
    "1. Convert a numeric column to a smaller type."
   ]
  },
  {
   "cell_type": "code",
   "execution_count": 2,
   "id": "415853ef-c675-46d0-a86c-5d8a312b9b57",
   "metadata": {},
   "outputs": [
    {
     "name": "stdout",
     "output_type": "stream",
     "text": [
      "0   -0.482036\n",
      "1    0.014805\n",
      "2   -0.892368\n",
      "3    1.113431\n",
      "4    0.081812\n",
      "5    1.003112\n",
      "6   -0.888397\n",
      "7   -0.829635\n",
      "8    0.298167\n",
      "9    0.120683\n",
      "dtype: float64\n",
      "0   -0.481934\n",
      "1    0.014809\n",
      "2   -0.892578\n",
      "3    1.113281\n",
      "4    0.081787\n",
      "5    1.002930\n",
      "6   -0.888184\n",
      "7   -0.829590\n",
      "8    0.298096\n",
      "9    0.120667\n",
      "dtype: float16\n"
     ]
    }
   ],
   "source": [
    "print(s)\n",
    "print(s.astype(\"float16\"))"
   ]
  },
  {
   "cell_type": "markdown",
   "id": "17b471c2-0e45-4922-b60f-cd3e0dfc4a76",
   "metadata": {},
   "source": [
    "2. Calculate the memory savings by converting to smaller numeric types."
   ]
  },
  {
   "cell_type": "code",
   "execution_count": 3,
   "id": "4e6d5ac7-8597-4795-b837-4c725d55eadb",
   "metadata": {},
   "outputs": [
    {
     "name": "stdout",
     "output_type": "stream",
     "text": [
      "80\n",
      "20\n"
     ]
    }
   ],
   "source": [
    "print(s.nbytes)\n",
    "print(s.astype(\"float16\").nbytes)"
   ]
  },
  {
   "cell_type": "markdown",
   "id": "44325da2-ca02-4e40-ab54-32c0bea9f59d",
   "metadata": {},
   "source": [
    "3. Convert a string column into a categorical type.\n"
   ]
  },
  {
   "cell_type": "code",
   "execution_count": 4,
   "id": "d09b6fa5-a24e-4eee-ab01-e80389208a20",
   "metadata": {},
   "outputs": [
    {
     "name": "stdout",
     "output_type": "stream",
     "text": [
      "0       cat\n",
      "1       dog\n",
      "2    parrot\n",
      "3      pets\n",
      "dtype: object\n",
      "0       cat\n",
      "1       dog\n",
      "2    parrot\n",
      "3      pets\n",
      "dtype: category\n",
      "Categories (4, object): ['cat', 'dog', 'parrot', 'pets']\n"
     ]
    }
   ],
   "source": [
    "string_s = pd.Series([\"cat\", \"dog\", \"parrot\", \"pets\"])\n",
    "print(string_s)\n",
    "print(string_s.astype(\"category\"))"
   ]
  },
  {
   "cell_type": "markdown",
   "id": "c5d90484-f521-498e-934b-75abd70ff54c",
   "metadata": {},
   "source": [
    "4. Calculate the memory savings by converting to a categorical type.\n"
   ]
  },
  {
   "cell_type": "code",
   "execution_count": 5,
   "id": "38af29f4-50f4-4ce6-aba5-573a1782fc01",
   "metadata": {},
   "outputs": [
    {
     "name": "stdout",
     "output_type": "stream",
     "text": [
      "80\n",
      "90\n",
      "372\n",
      "548\n"
     ]
    }
   ],
   "source": [
    "print(s.nbytes)\n",
    "print(s.astype('category').nbytes)\n",
    "\n",
    "print(string_s.memory_usage(deep=True))\n",
    "print(string_s.astype('category').memory_usage(deep=True))"
   ]
  },
  {
   "cell_type": "code",
   "execution_count": null,
   "id": "d9a04cd8-c2a1-4705-9bd8-f648c0ed2e68",
   "metadata": {},
   "outputs": [],
   "source": []
  }
 ],
 "metadata": {
  "kernelspec": {
   "display_name": "Python 3 (ipykernel)",
   "language": "python",
   "name": "python3"
  },
  "language_info": {
   "codemirror_mode": {
    "name": "ipython",
    "version": 3
   },
   "file_extension": ".py",
   "mimetype": "text/x-python",
   "name": "python",
   "nbconvert_exporter": "python",
   "pygments_lexer": "ipython3",
   "version": "3.9.10"
  }
 },
 "nbformat": 4,
 "nbformat_minor": 5
}
