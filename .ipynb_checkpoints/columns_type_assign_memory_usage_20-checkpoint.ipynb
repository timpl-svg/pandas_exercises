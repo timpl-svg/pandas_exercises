{
 "cells": [
  {
   "cell_type": "code",
   "execution_count": 4,
   "id": "9a07b575-b036-4eea-8861-7bce9cc8ff2c",
   "metadata": {},
   "outputs": [],
   "source": [
    "import pandas as pd\n",
    "\n",
    "df = pd.read_csv('datasets/population_by_age_group.csv')"
   ]
  },
  {
   "cell_type": "markdown",
   "id": "919c58df-3580-4278-85da-edd6525409f3",
   "metadata": {},
   "source": [
    "1. Find a numeric column and change the type of it. Did you save memory? Did you lose\n",
    "precision?"
   ]
  },
  {
   "cell_type": "code",
   "execution_count": 9,
   "id": "9fe2e049-afd7-4e25-b6ec-c86ff725b0a0",
   "metadata": {},
   "outputs": [
    {
     "name": "stdout",
     "output_type": "stream",
     "text": [
      "Index            128\n",
      "Country        15565\n",
      "Total           1880\n",
      "65+             1880\n",
      "25-64 years     1880\n",
      "15-24 years     1880\n",
      "5-14 years      1880\n",
      "0-4 years       1880\n",
      "dtype: int64\n",
      "Index            128\n",
      "Country        15565\n",
      "Total            940\n",
      "65+             1880\n",
      "25-64 years     1880\n",
      "15-24 years     1880\n",
      "5-14 years      1880\n",
      "0-4 years       1880\n",
      "dtype: int64\n",
      "0      40099460\n",
      "1       2854710\n",
      "2      44177964\n",
      "3         45056\n",
      "4         79057\n",
      "         ...   \n",
      "230       11654\n",
      "231      565590\n",
      "232    32981644\n",
      "233    19473132\n",
      "234    15993525\n",
      "Name: Total, Length: 235, dtype: int64\n",
      "0      40099460\n",
      "1       2854710\n",
      "2      44177964\n",
      "3         45056\n",
      "4         79057\n",
      "         ...   \n",
      "230       11654\n",
      "231      565590\n",
      "232    32981644\n",
      "233    19473132\n",
      "234    15993525\n",
      "Name: Total, Length: 235, dtype: int32\n"
     ]
    }
   ],
   "source": [
    "df_int32 = df.astype({'Total':'int32'})\n",
    "print(df.memory_usage(deep=True))\n",
    "print(df_int32.memory_usage(deep=True))\n",
    "print(df['Total'])\n",
    "print(df_int32['Total'])"
   ]
  },
  {
   "cell_type": "markdown",
   "id": "6dcfe4a8-88cb-4695-a332-641fad795a14",
   "metadata": {},
   "source": [
    "2. Find a string column and convert it to a category. What happened to the memory usage?\n",
    "Time a few string operations. Are they faster on the categorical column or string column?"
   ]
  },
  {
   "cell_type": "code",
   "execution_count": 21,
   "id": "4fa6596d-5de9-422b-a030-da3c150b2e19",
   "metadata": {},
   "outputs": [
    {
     "name": "stdout",
     "output_type": "stream",
     "text": [
      "Index            128\n",
      "Country        15565\n",
      "Total           1880\n",
      "65+             1880\n",
      "25-64 years     1880\n",
      "15-24 years     1880\n",
      "5-14 years      1880\n",
      "0-4 years       1880\n",
      "dtype: int64\n",
      "Index            128\n",
      "Country        24331\n",
      "Total           1880\n",
      "65+             1880\n",
      "25-64 years     1880\n",
      "15-24 years     1880\n",
      "5-14 years      1880\n",
      "0-4 years       1880\n",
      "dtype: int64\n",
      "0.0010001659393310547\n",
      "0.0009999275207519531\n"
     ]
    }
   ],
   "source": [
    "import time\n",
    "\n",
    "df_cat = df.astype({'Country':'category'})\n",
    "print(df.memory_usage(deep=True))\n",
    "print(df_cat.memory_usage(deep=True))\n",
    "\n",
    "str_start = time.time()\n",
    "df['Country'].str.lower()\n",
    "df['Country'].str.upper()\n",
    "df['Country'].str.lower()\n",
    "df['Country'].str.upper()\n",
    "df['Country'].str.lower()\n",
    "df['Country'].str.upper()\n",
    "str_end = time.time()\n",
    "\n",
    "cat_start = time.time()\n",
    "df_cat['Country'].str.lower()\n",
    "df_cat['Country'].str.upper()\n",
    "df_cat['Country'].str.lower()\n",
    "df_cat['Country'].str.upper()\n",
    "df_cat['Country'].str.lower()\n",
    "df_cat['Country'].str.upper()\n",
    "cat_end = time.time()\n",
    "\n",
    "print(str_end - str_start)\n",
    "print(cat_end - cat_start)"
   ]
  },
  {
   "cell_type": "code",
   "execution_count": null,
   "id": "c4c7cd0f-448b-454c-82ec-b7945bcc5228",
   "metadata": {},
   "outputs": [],
   "source": []
  }
 ],
 "metadata": {
  "kernelspec": {
   "display_name": "Python 3 (ipykernel)",
   "language": "python",
   "name": "python3"
  },
  "language_info": {
   "codemirror_mode": {
    "name": "ipython",
    "version": 3
   },
   "file_extension": ".py",
   "mimetype": "text/x-python",
   "name": "python",
   "nbconvert_exporter": "python",
   "pygments_lexer": "ipython3",
   "version": "3.9.10"
  }
 },
 "nbformat": 4,
 "nbformat_minor": 5
}
