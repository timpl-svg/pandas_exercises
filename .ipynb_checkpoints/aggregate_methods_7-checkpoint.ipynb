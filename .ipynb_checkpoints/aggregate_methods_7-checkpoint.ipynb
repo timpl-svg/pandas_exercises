{
 "cells": [
  {
   "cell_type": "code",
   "execution_count": 12,
   "id": "38e5ecba-75fd-4b80-a2d1-119c1e7bf161",
   "metadata": {},
   "outputs": [],
   "source": [
    "import pandas as pd\n",
    "import numpy as np\n",
    "\n",
    "arr = np.random.randn(10)\n",
    "s = pd.Series(arr)"
   ]
  },
  {
   "cell_type": "markdown",
   "id": "58c5635b-4acd-4dba-8fd0-4c72c3373279",
   "metadata": {},
   "source": [
    "1. Find the count of non-missing values of a series."
   ]
  },
  {
   "cell_type": "code",
   "execution_count": 23,
   "id": "edab4d2f-c2c3-4bee-9688-15735c930894",
   "metadata": {},
   "outputs": [
    {
     "name": "stdout",
     "output_type": "stream",
     "text": [
      "0   -1.986966\n",
      "1    1.553544\n",
      "2    0.669600\n",
      "3   -0.572004\n",
      "4   -0.860895\n",
      "5   -1.196668\n",
      "6   -0.286924\n",
      "7   -0.856652\n",
      "8    0.185584\n",
      "9   -0.883056\n",
      "dtype: float64\n",
      "count of non-missing values of a series: 10\n"
     ]
    }
   ],
   "source": [
    "print(s)\n",
    "print(\"count of non-missing values of a series:\", s.count())"
   ]
  },
  {
   "cell_type": "markdown",
   "id": "6df1961f-1054-4652-ac4c-825c21804961",
   "metadata": {},
   "source": [
    "2. Find the number of entries of a series."
   ]
  },
  {
   "cell_type": "code",
   "execution_count": 24,
   "id": "9bb5254a-3c1e-4f72-948e-0db0d2621f07",
   "metadata": {},
   "outputs": [
    {
     "name": "stdout",
     "output_type": "stream",
     "text": [
      "number of entries of a series: 10\n"
     ]
    }
   ],
   "source": [
    "print(\"number of entries of a series:\", s.size)"
   ]
  },
  {
   "cell_type": "markdown",
   "id": "74cd5f7c-1f4b-4673-97ad-c19711bec012",
   "metadata": {},
   "source": [
    "3. Find the number of unique entries of a series."
   ]
  },
  {
   "cell_type": "code",
   "execution_count": 25,
   "id": "26fe506a-7cbf-4605-8ff7-b87688b2ba55",
   "metadata": {},
   "outputs": [
    {
     "name": "stdout",
     "output_type": "stream",
     "text": [
      "number of unique entries of a series: 10\n"
     ]
    }
   ],
   "source": [
    "print(\"number of unique entries of a series:\", s.nunique())"
   ]
  },
  {
   "cell_type": "markdown",
   "id": "6413f632-4ff7-44f3-829c-6084ae0fc914",
   "metadata": {},
   "source": [
    "4. Find the mean value of a series."
   ]
  },
  {
   "cell_type": "code",
   "execution_count": 26,
   "id": "4d31e0ae-0ba7-46b8-accb-a3a4a9f4a07c",
   "metadata": {},
   "outputs": [
    {
     "name": "stdout",
     "output_type": "stream",
     "text": [
      "mean values of a series: -0.4234435148446402\n"
     ]
    }
   ],
   "source": [
    "print(\"mean values of a series:\", s.mean())"
   ]
  },
  {
   "cell_type": "markdown",
   "id": "afa1e0aa-50c0-4c0e-8cc7-99ee266116a1",
   "metadata": {},
   "source": [
    "5. Find the maximum value of a series."
   ]
  },
  {
   "cell_type": "code",
   "execution_count": 27,
   "id": "b3cc2f15-86ab-4478-b259-92138894543e",
   "metadata": {},
   "outputs": [
    {
     "name": "stdout",
     "output_type": "stream",
     "text": [
      "maximum values of a series: 1.553544446243319\n"
     ]
    }
   ],
   "source": [
    "print(\"maximum values of a series:\", s.max())"
   ]
  },
  {
   "cell_type": "markdown",
   "id": "3ef206a2-8bee-4f8c-8bfc-bb8abfab6fe2",
   "metadata": {},
   "source": [
    "6. Use the .agg method to find all of the above"
   ]
  },
  {
   "cell_type": "code",
   "execution_count": 29,
   "id": "71929c9b-caaa-4348-b1e8-430a1dfbdf59",
   "metadata": {},
   "outputs": [
    {
     "name": "stdout",
     "output_type": "stream",
     "text": [
      "10\n",
      "10\n",
      "10\n",
      "-0.4234435148446402\n",
      "1.553544446243319\n"
     ]
    }
   ],
   "source": [
    "print(s.agg(\"count\"))\n",
    "print(s.agg(\"size\"))\n",
    "print(s.agg(\"nunique\"))\n",
    "print(s.agg(\"mean\"))\n",
    "print(s.agg(\"max\"))"
   ]
  },
  {
   "cell_type": "code",
   "execution_count": null,
   "id": "14e54159-73dc-4a8d-8a87-c76dbdf0dee7",
   "metadata": {},
   "outputs": [],
   "source": []
  }
 ],
 "metadata": {
  "kernelspec": {
   "display_name": "Python 3 (ipykernel)",
   "language": "python",
   "name": "python3"
  },
  "language_info": {
   "codemirror_mode": {
    "name": "ipython",
    "version": 3
   },
   "file_extension": ".py",
   "mimetype": "text/x-python",
   "name": "python",
   "nbconvert_exporter": "python",
   "pygments_lexer": "ipython3",
   "version": "3.9.10"
  }
 },
 "nbformat": 4,
 "nbformat_minor": 5
}
