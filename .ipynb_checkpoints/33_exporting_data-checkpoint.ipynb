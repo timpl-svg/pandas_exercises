{
 "cells": [
  {
   "cell_type": "code",
   "execution_count": 2,
   "id": "eef4eb05-3bf3-43a5-9ca8-9244f22ac885",
   "metadata": {},
   "outputs": [],
   "source": [
    "import pandas as pd\n",
    "\n",
    "df = pd.DataFrame({\n",
    "    'name': ['name1', 'name2', 'name3'],\n",
    "    'data': ['data1', 'data2', 'data3']})"
   ]
  },
  {
   "cell_type": "markdown",
   "id": "ac003026-741a-4931-9c4a-1182f632726e",
   "metadata": {},
   "source": [
    "1. Export the data from a dataframe into a CSV file."
   ]
  },
  {
   "cell_type": "code",
   "execution_count": 4,
   "id": "d7d3b738-268e-4cd9-a9d6-57b55394b306",
   "metadata": {},
   "outputs": [],
   "source": [
    "df.to_csv('/Studies/machine_learning/pandas_exercises/exports/csvfile.csv')"
   ]
  },
  {
   "cell_type": "markdown",
   "id": "52a3c376-c87d-49be-97a6-a02d83ae8152",
   "metadata": {},
   "source": [
    "2. Export the data from a dataframe into a SQLite database."
   ]
  },
  {
   "cell_type": "code",
   "execution_count": 8,
   "id": "c77b6d5f-9059-4686-a903-4c1c4ef0a1b9",
   "metadata": {},
   "outputs": [
    {
     "data": {
      "text/plain": [
       "3"
      ]
     },
     "execution_count": 8,
     "metadata": {},
     "output_type": "execute_result"
    }
   ],
   "source": [
    "import sqlite3\n",
    "con = sqlite3.connect('/Studies/machine_learning/pandas_exercises/exports/df.db')\n",
    "df.to_sql('df', con, if_exists='replace')\n"
   ]
  },
  {
   "cell_type": "markdown",
   "id": "62b3be63-edfc-4fad-8fe1-9757d56998ea",
   "metadata": {},
   "source": [
    "3. Export the data from a dataframe into a Feather file."
   ]
  },
  {
   "cell_type": "code",
   "execution_count": 3,
   "id": "99688c19-183a-4248-b555-45fe5c8743ce",
   "metadata": {},
   "outputs": [],
   "source": [
    "df.reset_index().to_feather('/Studies/machine_learning/pandas_exercises/exports/df.fea')"
   ]
  },
  {
   "cell_type": "markdown",
   "id": "4a9d1386-52b2-44c7-a132-22e79200c105",
   "metadata": {},
   "source": [
    "4. Export the data from a dataframe into a JSON."
   ]
  },
  {
   "cell_type": "code",
   "execution_count": 10,
   "id": "165aac59-3b69-433f-a430-98dbe7832c41",
   "metadata": {},
   "outputs": [],
   "source": [
    "df.to_json('/Studies/machine_learning/pandas_exercises/exports/df.json')"
   ]
  },
  {
   "cell_type": "code",
   "execution_count": null,
   "id": "939e376e-ba2f-4596-80c7-be055814cb05",
   "metadata": {},
   "outputs": [],
   "source": []
  }
 ],
 "metadata": {
  "kernelspec": {
   "display_name": "Python 3 (ipykernel)",
   "language": "python",
   "name": "python3"
  },
  "language_info": {
   "codemirror_mode": {
    "name": "ipython",
    "version": 3
   },
   "file_extension": ".py",
   "mimetype": "text/x-python",
   "name": "python",
   "nbconvert_exporter": "python",
   "pygments_lexer": "ipython3",
   "version": "3.9.10"
  }
 },
 "nbformat": 4,
 "nbformat_minor": 5
}
