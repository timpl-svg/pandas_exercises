{
 "cells": [
  {
   "cell_type": "code",
   "execution_count": 1,
   "id": "5d606d39-6419-4f8a-833f-6cfb3734609c",
   "metadata": {},
   "outputs": [
    {
     "name": "stdout",
     "output_type": "stream",
     "text": [
      "  name  data  info\n",
      "0    A    10   3.1\n",
      "1    B   200   3.4\n",
      "2    C  3000  11.1\n"
     ]
    }
   ],
   "source": [
    "import pandas as pd\n",
    "\n",
    "df = pd.DataFrame({\n",
    "    'name': ['A', 'B', 'C'],\n",
    "    'data': [10, 200, 3000], \n",
    "    'info': [3.1, 3.4, 11.1]})\n",
    "print(df)"
   ]
  },
  {
   "cell_type": "markdown",
   "id": "97edf667-883f-46dc-938a-145e3ca13724",
   "metadata": {},
   "source": [
    "1. Color the background of the first two columns blue."
   ]
  },
  {
   "cell_type": "code",
   "execution_count": 2,
   "id": "8165dd92-f563-4298-a942-24ca9ed9b5a1",
   "metadata": {},
   "outputs": [
    {
     "data": {
      "text/html": [
       "<style type=\"text/css\">\n",
       "#T_67061_row0_col0, #T_67061_row0_col1, #T_67061_row1_col0, #T_67061_row1_col1, #T_67061_row2_col0, #T_67061_row2_col1 {\n",
       "  background-color: blue;\n",
       "}\n",
       "</style>\n",
       "<table id=\"T_67061\">\n",
       "  <thead>\n",
       "    <tr>\n",
       "      <th class=\"blank level0\" >&nbsp;</th>\n",
       "      <th id=\"T_67061_level0_col0\" class=\"col_heading level0 col0\" >index</th>\n",
       "      <th id=\"T_67061_level0_col1\" class=\"col_heading level0 col1\" >name</th>\n",
       "      <th id=\"T_67061_level0_col2\" class=\"col_heading level0 col2\" >data</th>\n",
       "      <th id=\"T_67061_level0_col3\" class=\"col_heading level0 col3\" >info</th>\n",
       "    </tr>\n",
       "  </thead>\n",
       "  <tbody>\n",
       "    <tr>\n",
       "      <th id=\"T_67061_level0_row0\" class=\"row_heading level0 row0\" >0</th>\n",
       "      <td id=\"T_67061_row0_col0\" class=\"data row0 col0\" >0</td>\n",
       "      <td id=\"T_67061_row0_col1\" class=\"data row0 col1\" >A</td>\n",
       "      <td id=\"T_67061_row0_col2\" class=\"data row0 col2\" >10</td>\n",
       "      <td id=\"T_67061_row0_col3\" class=\"data row0 col3\" >3.100000</td>\n",
       "    </tr>\n",
       "    <tr>\n",
       "      <th id=\"T_67061_level0_row1\" class=\"row_heading level0 row1\" >1</th>\n",
       "      <td id=\"T_67061_row1_col0\" class=\"data row1 col0\" >1</td>\n",
       "      <td id=\"T_67061_row1_col1\" class=\"data row1 col1\" >B</td>\n",
       "      <td id=\"T_67061_row1_col2\" class=\"data row1 col2\" >200</td>\n",
       "      <td id=\"T_67061_row1_col3\" class=\"data row1 col3\" >3.400000</td>\n",
       "    </tr>\n",
       "    <tr>\n",
       "      <th id=\"T_67061_level0_row2\" class=\"row_heading level0 row2\" >2</th>\n",
       "      <td id=\"T_67061_row2_col0\" class=\"data row2 col0\" >2</td>\n",
       "      <td id=\"T_67061_row2_col1\" class=\"data row2 col1\" >C</td>\n",
       "      <td id=\"T_67061_row2_col2\" class=\"data row2 col2\" >3000</td>\n",
       "      <td id=\"T_67061_row2_col3\" class=\"data row2 col3\" >11.100000</td>\n",
       "    </tr>\n",
       "  </tbody>\n",
       "</table>\n"
      ],
      "text/plain": [
       "<pandas.io.formats.style.Styler at 0x1bb48a62d30>"
      ]
     },
     "execution_count": 2,
     "metadata": {},
     "output_type": "execute_result"
    }
   ],
   "source": [
    "df.reset_index().style.set_properties(**{'background-color': 'blue'}, subset=['index', 'name'])"
   ]
  },
  {
   "cell_type": "markdown",
   "id": "c015a9d6-0117-4a95-b2c2-8d5cfe9f9940",
   "metadata": {},
   "source": [
    "2. Format the numeric values by specifying precision and thousands separator."
   ]
  },
  {
   "cell_type": "code",
   "execution_count": 3,
   "id": "ca95b739-e892-41c4-b046-dd2320783e97",
   "metadata": {},
   "outputs": [
    {
     "data": {
      "text/html": [
       "<style type=\"text/css\">\n",
       "</style>\n",
       "<table id=\"T_d238a\">\n",
       "  <thead>\n",
       "    <tr>\n",
       "      <th class=\"blank level0\" >&nbsp;</th>\n",
       "      <th id=\"T_d238a_level0_col0\" class=\"col_heading level0 col0\" >index</th>\n",
       "      <th id=\"T_d238a_level0_col1\" class=\"col_heading level0 col1\" >name</th>\n",
       "      <th id=\"T_d238a_level0_col2\" class=\"col_heading level0 col2\" >data</th>\n",
       "      <th id=\"T_d238a_level0_col3\" class=\"col_heading level0 col3\" >info</th>\n",
       "    </tr>\n",
       "  </thead>\n",
       "  <tbody>\n",
       "    <tr>\n",
       "      <th id=\"T_d238a_level0_row0\" class=\"row_heading level0 row0\" >0</th>\n",
       "      <td id=\"T_d238a_row0_col0\" class=\"data row0 col0\" >0</td>\n",
       "      <td id=\"T_d238a_row0_col1\" class=\"data row0 col1\" >A</td>\n",
       "      <td id=\"T_d238a_row0_col2\" class=\"data row0 col2\" >10</td>\n",
       "      <td id=\"T_d238a_row0_col3\" class=\"data row0 col3\" >3.10000</td>\n",
       "    </tr>\n",
       "    <tr>\n",
       "      <th id=\"T_d238a_level0_row1\" class=\"row_heading level0 row1\" >1</th>\n",
       "      <td id=\"T_d238a_row1_col0\" class=\"data row1 col0\" >1</td>\n",
       "      <td id=\"T_d238a_row1_col1\" class=\"data row1 col1\" >B</td>\n",
       "      <td id=\"T_d238a_row1_col2\" class=\"data row1 col2\" >200</td>\n",
       "      <td id=\"T_d238a_row1_col3\" class=\"data row1 col3\" >3.40000</td>\n",
       "    </tr>\n",
       "    <tr>\n",
       "      <th id=\"T_d238a_level0_row2\" class=\"row_heading level0 row2\" >2</th>\n",
       "      <td id=\"T_d238a_row2_col0\" class=\"data row2 col0\" >2</td>\n",
       "      <td id=\"T_d238a_row2_col1\" class=\"data row2 col1\" >C</td>\n",
       "      <td id=\"T_d238a_row2_col2\" class=\"data row2 col2\" >3 000</td>\n",
       "      <td id=\"T_d238a_row2_col3\" class=\"data row2 col3\" >11.10000</td>\n",
       "    </tr>\n",
       "  </tbody>\n",
       "</table>\n"
      ],
      "text/plain": [
       "<pandas.io.formats.style.Styler at 0x1bb4bdf0cd0>"
      ]
     },
     "execution_count": 3,
     "metadata": {},
     "output_type": "execute_result"
    }
   ],
   "source": [
    "df.reset_index().style.format(precision=5, thousands=' ')"
   ]
  },
  {
   "cell_type": "markdown",
   "id": "0fed6460-6838-4ce0-9bf9-62ef76b17fe5",
   "metadata": {},
   "source": [
    "3. Include a bar plot in a column."
   ]
  },
  {
   "cell_type": "code",
   "execution_count": 4,
   "id": "cdd396f1-0e47-42c3-926e-e2a50b94a281",
   "metadata": {},
   "outputs": [
    {
     "data": {
      "text/html": [
       "<style type=\"text/css\">\n",
       "#T_be66d_row0_col2 {\n",
       "  width: 10em;\n",
       "  background: linear-gradient(90deg, green 0.4%, transparent 0.4%);\n",
       "}\n",
       "#T_be66d_row1_col2 {\n",
       "  width: 10em;\n",
       "  background: linear-gradient(90deg, green 7.4%, transparent 7.4%);\n",
       "}\n",
       "#T_be66d_row2_col2 {\n",
       "  width: 10em;\n",
       "  background: linear-gradient(90deg, green 100.0%, transparent 100.0%);\n",
       "}\n",
       "</style>\n",
       "<table id=\"T_be66d\">\n",
       "  <thead>\n",
       "    <tr>\n",
       "      <th class=\"blank level0\" >&nbsp;</th>\n",
       "      <th id=\"T_be66d_level0_col0\" class=\"col_heading level0 col0\" >index</th>\n",
       "      <th id=\"T_be66d_level0_col1\" class=\"col_heading level0 col1\" >name</th>\n",
       "      <th id=\"T_be66d_level0_col2\" class=\"col_heading level0 col2\" >data</th>\n",
       "      <th id=\"T_be66d_level0_col3\" class=\"col_heading level0 col3\" >info</th>\n",
       "    </tr>\n",
       "  </thead>\n",
       "  <tbody>\n",
       "    <tr>\n",
       "      <th id=\"T_be66d_level0_row0\" class=\"row_heading level0 row0\" >0</th>\n",
       "      <td id=\"T_be66d_row0_col0\" class=\"data row0 col0\" >0</td>\n",
       "      <td id=\"T_be66d_row0_col1\" class=\"data row0 col1\" >A</td>\n",
       "      <td id=\"T_be66d_row0_col2\" class=\"data row0 col2\" >10</td>\n",
       "      <td id=\"T_be66d_row0_col3\" class=\"data row0 col3\" >3.100000</td>\n",
       "    </tr>\n",
       "    <tr>\n",
       "      <th id=\"T_be66d_level0_row1\" class=\"row_heading level0 row1\" >1</th>\n",
       "      <td id=\"T_be66d_row1_col0\" class=\"data row1 col0\" >1</td>\n",
       "      <td id=\"T_be66d_row1_col1\" class=\"data row1 col1\" >B</td>\n",
       "      <td id=\"T_be66d_row1_col2\" class=\"data row1 col2\" >200</td>\n",
       "      <td id=\"T_be66d_row1_col3\" class=\"data row1 col3\" >3.400000</td>\n",
       "    </tr>\n",
       "    <tr>\n",
       "      <th id=\"T_be66d_level0_row2\" class=\"row_heading level0 row2\" >2</th>\n",
       "      <td id=\"T_be66d_row2_col0\" class=\"data row2 col0\" >2</td>\n",
       "      <td id=\"T_be66d_row2_col1\" class=\"data row2 col1\" >C</td>\n",
       "      <td id=\"T_be66d_row2_col2\" class=\"data row2 col2\" >3000</td>\n",
       "      <td id=\"T_be66d_row2_col3\" class=\"data row2 col3\" >11.100000</td>\n",
       "    </tr>\n",
       "  </tbody>\n",
       "</table>\n"
      ],
      "text/plain": [
       "<pandas.io.formats.style.Styler at 0x1bb4bdf0df0>"
      ]
     },
     "execution_count": 4,
     "metadata": {},
     "output_type": "execute_result"
    }
   ],
   "source": [
    "df.reset_index().style.bar(subset='data', color='green', vmax=df.data.quantile(.95))"
   ]
  },
  {
   "cell_type": "markdown",
   "id": "c7ed89b7-a6bb-45b7-aa80-8c79f12d0a36",
   "metadata": {},
   "source": [
    "4. Set a background gradient for a column"
   ]
  },
  {
   "cell_type": "code",
   "execution_count": 6,
   "id": "507cc8fc-ddf6-4a98-87a7-9c885db8dd7d",
   "metadata": {},
   "outputs": [
    {
     "data": {
      "text/html": [
       "<style type=\"text/css\">\n",
       "#T_7e3d6_row0_col3 {\n",
       "  background-color: #fff5f0;\n",
       "  color: #000000;\n",
       "}\n",
       "#T_7e3d6_row1_col3 {\n",
       "  background-color: #ffefe8;\n",
       "  color: #000000;\n",
       "}\n",
       "#T_7e3d6_row2_col3 {\n",
       "  background-color: #67000d;\n",
       "  color: #f1f1f1;\n",
       "}\n",
       "</style>\n",
       "<table id=\"T_7e3d6\">\n",
       "  <thead>\n",
       "    <tr>\n",
       "      <th class=\"blank level0\" >&nbsp;</th>\n",
       "      <th id=\"T_7e3d6_level0_col0\" class=\"col_heading level0 col0\" >index</th>\n",
       "      <th id=\"T_7e3d6_level0_col1\" class=\"col_heading level0 col1\" >name</th>\n",
       "      <th id=\"T_7e3d6_level0_col2\" class=\"col_heading level0 col2\" >data</th>\n",
       "      <th id=\"T_7e3d6_level0_col3\" class=\"col_heading level0 col3\" >info</th>\n",
       "    </tr>\n",
       "  </thead>\n",
       "  <tbody>\n",
       "    <tr>\n",
       "      <th id=\"T_7e3d6_level0_row0\" class=\"row_heading level0 row0\" >0</th>\n",
       "      <td id=\"T_7e3d6_row0_col0\" class=\"data row0 col0\" >0</td>\n",
       "      <td id=\"T_7e3d6_row0_col1\" class=\"data row0 col1\" >A</td>\n",
       "      <td id=\"T_7e3d6_row0_col2\" class=\"data row0 col2\" >10</td>\n",
       "      <td id=\"T_7e3d6_row0_col3\" class=\"data row0 col3\" >3.100000</td>\n",
       "    </tr>\n",
       "    <tr>\n",
       "      <th id=\"T_7e3d6_level0_row1\" class=\"row_heading level0 row1\" >1</th>\n",
       "      <td id=\"T_7e3d6_row1_col0\" class=\"data row1 col0\" >1</td>\n",
       "      <td id=\"T_7e3d6_row1_col1\" class=\"data row1 col1\" >B</td>\n",
       "      <td id=\"T_7e3d6_row1_col2\" class=\"data row1 col2\" >200</td>\n",
       "      <td id=\"T_7e3d6_row1_col3\" class=\"data row1 col3\" >3.400000</td>\n",
       "    </tr>\n",
       "    <tr>\n",
       "      <th id=\"T_7e3d6_level0_row2\" class=\"row_heading level0 row2\" >2</th>\n",
       "      <td id=\"T_7e3d6_row2_col0\" class=\"data row2 col0\" >2</td>\n",
       "      <td id=\"T_7e3d6_row2_col1\" class=\"data row2 col1\" >C</td>\n",
       "      <td id=\"T_7e3d6_row2_col2\" class=\"data row2 col2\" >3000</td>\n",
       "      <td id=\"T_7e3d6_row2_col3\" class=\"data row2 col3\" >11.100000</td>\n",
       "    </tr>\n",
       "  </tbody>\n",
       "</table>\n"
      ],
      "text/plain": [
       "<pandas.io.formats.style.Styler at 0x1bb4af85100>"
      ]
     },
     "execution_count": 6,
     "metadata": {},
     "output_type": "execute_result"
    }
   ],
   "source": [
    "df.reset_index().style.background_gradient(axis=0, cmap='Reds', subset='info')"
   ]
  },
  {
   "cell_type": "markdown",
   "id": "75084796-cceb-44b2-af6b-c4ebde31fe51",
   "metadata": {},
   "source": [
    "5. Make the column headers sticky.\n"
   ]
  },
  {
   "cell_type": "code",
   "execution_count": 9,
   "id": "d6c7acb3-0032-4b29-b33c-fced4da374fd",
   "metadata": {},
   "outputs": [
    {
     "data": {
      "text/html": [
       "<style type=\"text/css\">\n",
       "#T_5dcaa thead tr th:nth-child(1) {\n",
       "  position: sticky;\n",
       "  background-color: inherit;\n",
       "  left: 0px;\n",
       "  z-index: 3 !important;\n",
       "}\n",
       "#T_5dcaa tbody tr th:nth-child(1) {\n",
       "  position: sticky;\n",
       "  background-color: inherit;\n",
       "  left: 0px;\n",
       "  z-index: 1;\n",
       "}\n",
       "</style>\n",
       "<table id=\"T_5dcaa\">\n",
       "  <thead>\n",
       "    <tr>\n",
       "      <th class=\"blank level0\" >&nbsp;</th>\n",
       "      <th id=\"T_5dcaa_level0_col0\" class=\"col_heading level0 col0\" >index</th>\n",
       "      <th id=\"T_5dcaa_level0_col1\" class=\"col_heading level0 col1\" >name</th>\n",
       "      <th id=\"T_5dcaa_level0_col2\" class=\"col_heading level0 col2\" >data</th>\n",
       "      <th id=\"T_5dcaa_level0_col3\" class=\"col_heading level0 col3\" >info</th>\n",
       "    </tr>\n",
       "  </thead>\n",
       "  <tbody>\n",
       "    <tr>\n",
       "      <th id=\"T_5dcaa_level0_row0\" class=\"row_heading level0 row0\" >0</th>\n",
       "      <td id=\"T_5dcaa_row0_col0\" class=\"data row0 col0\" >0</td>\n",
       "      <td id=\"T_5dcaa_row0_col1\" class=\"data row0 col1\" >A</td>\n",
       "      <td id=\"T_5dcaa_row0_col2\" class=\"data row0 col2\" >10</td>\n",
       "      <td id=\"T_5dcaa_row0_col3\" class=\"data row0 col3\" >3.100000</td>\n",
       "    </tr>\n",
       "    <tr>\n",
       "      <th id=\"T_5dcaa_level0_row1\" class=\"row_heading level0 row1\" >1</th>\n",
       "      <td id=\"T_5dcaa_row1_col0\" class=\"data row1 col0\" >1</td>\n",
       "      <td id=\"T_5dcaa_row1_col1\" class=\"data row1 col1\" >B</td>\n",
       "      <td id=\"T_5dcaa_row1_col2\" class=\"data row1 col2\" >200</td>\n",
       "      <td id=\"T_5dcaa_row1_col3\" class=\"data row1 col3\" >3.400000</td>\n",
       "    </tr>\n",
       "    <tr>\n",
       "      <th id=\"T_5dcaa_level0_row2\" class=\"row_heading level0 row2\" >2</th>\n",
       "      <td id=\"T_5dcaa_row2_col0\" class=\"data row2 col0\" >2</td>\n",
       "      <td id=\"T_5dcaa_row2_col1\" class=\"data row2 col1\" >C</td>\n",
       "      <td id=\"T_5dcaa_row2_col2\" class=\"data row2 col2\" >3000</td>\n",
       "      <td id=\"T_5dcaa_row2_col3\" class=\"data row2 col3\" >11.100000</td>\n",
       "    </tr>\n",
       "  </tbody>\n",
       "</table>\n"
      ],
      "text/plain": [
       "<pandas.io.formats.style.Styler at 0x1bb4d7a1ac0>"
      ]
     },
     "execution_count": 9,
     "metadata": {},
     "output_type": "execute_result"
    }
   ],
   "source": [
    "df.reset_index().style.set_sticky(axis='index')"
   ]
  },
  {
   "cell_type": "code",
   "execution_count": null,
   "id": "9eb97f4f-93d6-41fd-a3d5-b5dac1804313",
   "metadata": {},
   "outputs": [],
   "source": []
  }
 ],
 "metadata": {
  "kernelspec": {
   "display_name": "Python 3 (ipykernel)",
   "language": "python",
   "name": "python3"
  },
  "language_info": {
   "codemirror_mode": {
    "name": "ipython",
    "version": 3
   },
   "file_extension": ".py",
   "mimetype": "text/x-python",
   "name": "python",
   "nbconvert_exporter": "python",
   "pygments_lexer": "ipython3",
   "version": "3.9.10"
  }
 },
 "nbformat": 4,
 "nbformat_minor": 5
}
