{
 "cells": [
  {
   "cell_type": "code",
   "execution_count": 1,
   "metadata": {},
   "outputs": [],
   "source": [
    "import pandas as pd\n",
    "import numpy as np\n",
    "\n",
    "df = pd.read_csv('datasets/population_by_age_group.csv')\n",
    "total = df.Total\n",
    "\n"
   ]
  },
  {
   "cell_type": "markdown",
   "metadata": {},
   "source": [
    "1. Inspect the index"
   ]
  },
  {
   "cell_type": "code",
   "execution_count": 2,
   "metadata": {},
   "outputs": [
    {
     "name": "stdout",
     "output_type": "stream",
     "text": [
      "RangeIndex(start=0, stop=235, step=1)\n"
     ]
    }
   ],
   "source": [
    "print(total.index)"
   ]
  },
  {
   "cell_type": "markdown",
   "metadata": {},
   "source": [
    "2. Sort the index."
   ]
  },
  {
   "cell_type": "code",
   "execution_count": 3,
   "metadata": {},
   "outputs": [
    {
     "name": "stdout",
     "output_type": "stream",
     "text": [
      "0      40099460\n",
      "1       2854710\n",
      "2      44177964\n",
      "3         45056\n",
      "4         79057\n",
      "         ...   \n",
      "230       11654\n",
      "231      565590\n",
      "232    32981644\n",
      "233    19473132\n",
      "234    15993525\n",
      "Name: Total, Length: 235, dtype: int64\n"
     ]
    }
   ],
   "source": [
    "res = total.sort_index()\n",
    "print(res)"
   ]
  },
  {
   "cell_type": "markdown",
   "metadata": {},
   "source": [
    "3. Set the index to monotonically increasing integers starting from 0."
   ]
  },
  {
   "cell_type": "code",
   "execution_count": 23,
   "metadata": {},
   "outputs": [
    {
     "name": "stdout",
     "output_type": "stream",
     "text": [
      "0      40099460\n",
      "1       2854710\n",
      "2      44177964\n",
      "3         45056\n",
      "4         79057\n",
      "         ...   \n",
      "230       11654\n",
      "231      565590\n",
      "232    32981644\n",
      "233    19473132\n",
      "234    15993525\n",
      "Name: (0, 1, 2, 3, 4, 5, 6, 7, 8, 9, 10, 11, 12, 13, 14, 15, 16, 17, 18, 19, 20, 21, 22, 23, 24, 25, 26, 27, 28, 29, 30, 31, 32, 33, 34, 35, 36, 37, 38, 39, 40, 41, 42, 43, 44, 45, 46, 47, 48, 49, 50, 51, 52, 53, 54, 55, 56, 57, 58, 59, 60, 61, 62, 63, 64, 65, 66, 67, 68, 69, 70, 71, 72, 73, 74, 75, 76, 77, 78, 79, 80, 81, 82, 83, 84, 85, 86, 87, 88, 89, 90, 91, 92, 93, 94, 95, 96, 97, 98, 99, ...), Length: 235, dtype: int64\n"
     ]
    }
   ],
   "source": [
    "new_indices = range(235)\n",
    "res = total.rename(new_indices)\n",
    "print(res)"
   ]
  },
  {
   "cell_type": "markdown",
   "metadata": {},
   "source": [
    "4. Set the index to monotonically increasing integers starting from 0, then convert these to the\n",
    "string version. Save this a s2."
   ]
  },
  {
   "cell_type": "code",
   "execution_count": 28,
   "metadata": {},
   "outputs": [
    {
     "name": "stdout",
     "output_type": "stream",
     "text": [
      "0      40099460\n",
      "1       2854710\n",
      "2      44177964\n",
      "3         45056\n",
      "4         79057\n",
      "         ...   \n",
      "230       11654\n",
      "231      565590\n",
      "232    32981644\n",
      "233    19473132\n",
      "234    15993525\n",
      "Name: Total, Length: 235, dtype: int64\n"
     ]
    }
   ],
   "source": [
    "str_indices = pd.Series([str(x) for x in new_indices])\n",
    "s2 = total.rename(str_indices)\n",
    "print(s2)"
   ]
  },
  {
   "cell_type": "markdown",
   "metadata": {},
   "source": [
    "5. Using s2, pull out the first 5 entries."
   ]
  },
  {
   "cell_type": "code",
   "execution_count": 29,
   "metadata": {},
   "outputs": [
    {
     "data": {
      "text/plain": [
       "0    40099460\n",
       "1     2854710\n",
       "2    44177964\n",
       "3       45056\n",
       "4       79057\n",
       "Name: Total, dtype: int64"
      ]
     },
     "execution_count": 29,
     "metadata": {},
     "output_type": "execute_result"
    }
   ],
   "source": [
    "s2.head()"
   ]
  },
  {
   "cell_type": "markdown",
   "metadata": {},
   "source": [
    "6. Using s2, pull out the last 5 entries.\n"
   ]
  },
  {
   "cell_type": "code",
   "execution_count": 30,
   "metadata": {},
   "outputs": [
    {
     "data": {
      "text/plain": [
       "230       11654\n",
       "231      565590\n",
       "232    32981644\n",
       "233    19473132\n",
       "234    15993525\n",
       "Name: Total, dtype: int64"
      ]
     },
     "execution_count": 30,
     "metadata": {},
     "output_type": "execute_result"
    }
   ],
   "source": [
    "s2.tail()"
   ]
  },
  {
   "cell_type": "markdown",
   "metadata": {},
   "source": [
    "7. Using s2, pull out one hundred entries starting at index position 10."
   ]
  },
  {
   "cell_type": "code",
   "execution_count": 34,
   "metadata": {},
   "outputs": [
    {
     "data": {
      "text/plain": [
       "10       106543\n",
       "11     25921094\n",
       "12      8922086\n",
       "13     10312992\n",
       "14       407920\n",
       "         ...   \n",
       "105      109634\n",
       "106    11148288\n",
       "107    19196468\n",
       "108    53005616\n",
       "109      128883\n",
       "Name: Total, Length: 100, dtype: int64"
      ]
     },
     "execution_count": 34,
     "metadata": {},
     "output_type": "execute_result"
    }
   ],
   "source": [
    "s2.iloc[10:110]"
   ]
  },
  {
   "cell_type": "markdown",
   "metadata": {},
   "source": [
    "8. Using s2, create a series with values with index entries '20', '10', and '2'.\n"
   ]
  },
  {
   "cell_type": "code",
   "execution_count": 36,
   "metadata": {},
   "outputs": [
    {
     "name": "stdout",
     "output_type": "stream",
     "text": [
      "0      400037\n",
      "1      106543\n",
      "2    44177964\n",
      "dtype: int64\n"
     ]
    }
   ],
   "source": [
    "res = pd.Series([s2.loc['20'], s2.loc['10'], s2.loc['2']])\n",
    "print(res)"
   ]
  },
  {
   "cell_type": "code",
   "execution_count": null,
   "metadata": {},
   "outputs": [],
   "source": []
  }
 ],
 "metadata": {
  "kernelspec": {
   "display_name": "Python 3 (ipykernel)",
   "language": "python",
   "name": "python3"
  },
  "language_info": {
   "codemirror_mode": {
    "name": "ipython",
    "version": 3
   },
   "file_extension": ".py",
   "mimetype": "text/x-python",
   "name": "python",
   "nbconvert_exporter": "python",
   "pygments_lexer": "ipython3",
   "version": "3.9.10 (tags/v3.9.10:f2f3f53, Jan 17 2022, 15:14:21) [MSC v.1929 64 bit (AMD64)]"
  },
  "vscode": {
   "interpreter": {
    "hash": "11938c6bc6919ae2720b4d5011047913343b08a43b18698fd82dedb0d4417594"
   }
  }
 },
 "nbformat": 4,
 "nbformat_minor": 4
}
