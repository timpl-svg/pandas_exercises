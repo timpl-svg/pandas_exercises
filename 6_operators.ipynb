{
 "cells": [
  {
   "cell_type": "markdown",
   "id": "80e47fb7-a0d2-45c2-9d89-06c5049be492",
   "metadata": {},
   "source": [
    "1. Add a numeric series to itself."
   ]
  },
  {
   "cell_type": "code",
   "execution_count": 4,
   "id": "b6adea4f-cf58-4ba4-b0a0-db868543a397",
   "metadata": {},
   "outputs": [
    {
     "name": "stdout",
     "output_type": "stream",
     "text": [
      "0    2\n",
      "1    4\n",
      "2    6\n",
      "dtype: int64\n"
     ]
    }
   ],
   "source": [
    "import pandas as pd\n",
    "\n",
    "s1 = pd.Series([1, 2, 3])\n",
    "print(s1 + s1)\n"
   ]
  },
  {
   "cell_type": "markdown",
   "id": "5e2dcc0f-a953-4235-a6f8-13bc9e4fb3bd",
   "metadata": {},
   "source": [
    "2. Add 10 to a numeric series"
   ]
  },
  {
   "cell_type": "code",
   "execution_count": 2,
   "id": "908bd2c2-efdd-4857-b4a3-d1a25911f7cc",
   "metadata": {},
   "outputs": [
    {
     "name": "stdout",
     "output_type": "stream",
     "text": [
      "0    11\n",
      "1    12\n",
      "2    13\n",
      "dtype: int64\n"
     ]
    }
   ],
   "source": [
    "print(s1 + 10)"
   ]
  },
  {
   "cell_type": "markdown",
   "id": "4823977e-1aee-439c-8164-aadec25b3f0d",
   "metadata": {},
   "source": [
    "3. Add a numeric series to itself using the .add method."
   ]
  },
  {
   "cell_type": "code",
   "execution_count": 3,
   "id": "3dee24e0-6c86-46c4-b0bf-8bac86183fbd",
   "metadata": {},
   "outputs": [
    {
     "name": "stdout",
     "output_type": "stream",
     "text": [
      "0    2\n",
      "1    4\n",
      "2    6\n",
      "dtype: int64\n"
     ]
    }
   ],
   "source": [
    "print(s1.add(s1))"
   ]
  },
  {
   "cell_type": "code",
   "execution_count": 5,
   "id": "52783acb-bd88-47a4-bb21-8ee73c312311",
   "metadata": {},
   "outputs": [
    {
     "name": "stdout",
     "output_type": "stream",
     "text": [
      "1     NaN\n",
      "2    55.0\n",
      "2    64.0\n",
      "2    65.0\n",
      "2    74.0\n",
      "4     NaN\n",
      "dtype: float64\n"
     ]
    }
   ],
   "source": [
    "ser1 = pd.Series([10, 20, 30], [1, 2, 2])\n",
    "ser2 = pd.Series([35, 44, 53], [2, 2, 4])\n",
    "print(ser1 + ser2)"
   ]
  },
  {
   "cell_type": "code",
   "execution_count": null,
   "id": "9d0267f8-8052-441f-9d06-30d6e18bc2ab",
   "metadata": {},
   "outputs": [],
   "source": []
  }
 ],
 "metadata": {
  "kernelspec": {
   "display_name": "Python 3 (ipykernel)",
   "language": "python",
   "name": "python3"
  },
  "language_info": {
   "codemirror_mode": {
    "name": "ipython",
    "version": 3
   },
   "file_extension": ".py",
   "mimetype": "text/x-python",
   "name": "python",
   "nbconvert_exporter": "python",
   "pygments_lexer": "ipython3",
   "version": "3.9.10"
  }
 },
 "nbformat": 4,
 "nbformat_minor": 5
}
