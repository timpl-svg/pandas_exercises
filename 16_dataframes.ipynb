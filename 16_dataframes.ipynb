{
 "cells": [
  {
   "cell_type": "code",
   "execution_count": 4,
   "id": "afdb428c-26bf-4260-a372-f7aa9e43537a",
   "metadata": {},
   "outputs": [],
   "source": [
    "import pandas as pd"
   ]
  },
  {
   "cell_type": "markdown",
   "id": "869ee58c-8ede-45a1-a9de-32909d6c9fa6",
   "metadata": {},
   "source": [
    "1. Create a dataframe with the names of your colleagues, their age (or an estimate), and their\n",
    "title."
   ]
  },
  {
   "cell_type": "code",
   "execution_count": 13,
   "id": "870c6113-daaa-490a-aacd-75e54600726e",
   "metadata": {},
   "outputs": [
    {
     "name": "stdout",
     "output_type": "stream",
     "text": [
      "   name  age    title\n",
      "0  name   18  student\n",
      "1  name   19  student\n",
      "2  name   18   intern\n"
     ]
    }
   ],
   "source": [
    "data = {\n",
    "    'name': ['name', 'name', 'name'],\n",
    "    'age': [18, 19, 18],\n",
    "    'title': ['student', 'student', 'intern']\n",
    "}\n",
    "\n",
    "df = pd.DataFrame(data)\n",
    "print(df)"
   ]
  },
  {
   "cell_type": "markdown",
   "id": "eb7402a2-4b9e-4f06-b066-760dc72ac7a3",
   "metadata": {},
   "source": [
    "2. Capitalize the values in the name column."
   ]
  },
  {
   "cell_type": "code",
   "execution_count": 15,
   "id": "66adf1e6-99c6-4b1c-babe-8558e2c34169",
   "metadata": {},
   "outputs": [
    {
     "name": "stdout",
     "output_type": "stream",
     "text": [
      "   name  age    title\n",
      "0  Name   18  student\n",
      "1  Name   19  student\n",
      "2  Name   18   intern\n"
     ]
    }
   ],
   "source": [
    "df['name'] = df['name'].str.capitalize()\n",
    "print(df)"
   ]
  },
  {
   "cell_type": "markdown",
   "id": "5ef0fb76-d972-49a4-a5a5-2c70a51f84c1",
   "metadata": {},
   "source": [
    "3. Sum up the values of the age column"
   ]
  },
  {
   "cell_type": "code",
   "execution_count": 17,
   "id": "eaee88ae-96b3-4eef-8b33-82a0f1390ea7",
   "metadata": {},
   "outputs": [
    {
     "name": "stdout",
     "output_type": "stream",
     "text": [
      "55\n"
     ]
    }
   ],
   "source": [
    "age_sum = df['age'].sum()\n",
    "print(age_sum)"
   ]
  }
 ],
 "metadata": {
  "kernelspec": {
   "display_name": "Python 3 (ipykernel)",
   "language": "python",
   "name": "python3"
  },
  "language_info": {
   "codemirror_mode": {
    "name": "ipython",
    "version": 3
   },
   "file_extension": ".py",
   "mimetype": "text/x-python",
   "name": "python",
   "nbconvert_exporter": "python",
   "pygments_lexer": "ipython3",
   "version": "3.9.10"
  }
 },
 "nbformat": 4,
 "nbformat_minor": 5
}
