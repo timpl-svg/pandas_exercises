{
 "cells": [
  {
   "cell_type": "code",
   "execution_count": 3,
   "id": "4d2a7f16-eacf-4aca-af00-35aa7a54220b",
   "metadata": {},
   "outputs": [],
   "source": [
    "import pandas as pd\n",
    "\n",
    "df = pd.read_csv('datasets/population_by_age_group.csv')\n",
    "countries = df.Country"
   ]
  },
  {
   "cell_type": "markdown",
   "id": "c7defdac-2abc-4b18-a266-da31841e0b94",
   "metadata": {},
   "source": [
    "1. Using a string column, lowercase the values."
   ]
  },
  {
   "cell_type": "code",
   "execution_count": 4,
   "id": "12621c90-29d5-4b94-8df3-c833962c11f1",
   "metadata": {},
   "outputs": [
    {
     "name": "stdout",
     "output_type": "stream",
     "text": [
      "0            afghanistan\n",
      "1                albania\n",
      "2                algeria\n",
      "3         american samoa\n",
      "4                andorra\n",
      "             ...        \n",
      "230    wallis and futuna\n",
      "231       western sahara\n",
      "232                yemen\n",
      "233               zambia\n",
      "234             zimbabwe\n",
      "Name: Country, Length: 235, dtype: object\n"
     ]
    }
   ],
   "source": [
    "res = countries.str.lower()\n",
    "print(res)"
   ]
  },
  {
   "cell_type": "markdown",
   "id": "20037e24-14ca-4f99-824d-d47442e96069",
   "metadata": {},
   "source": [
    "2. Using a string column, slice out the first character."
   ]
  },
  {
   "cell_type": "code",
   "execution_count": 12,
   "id": "cf89ac88-aa90-4e49-8e5e-83f0c8b9e4c3",
   "metadata": {},
   "outputs": [
    {
     "name": "stdout",
     "output_type": "stream",
     "text": [
      "0            fghanistan\n",
      "1                lbania\n",
      "2                lgeria\n",
      "3         merican Samoa\n",
      "4                ndorra\n",
      "             ...       \n",
      "230    allis and Futuna\n",
      "231       estern Sahara\n",
      "232                emen\n",
      "233               ambia\n",
      "234             imbabwe\n",
      "Name: Country, Length: 235, dtype: object\n",
      "0      A\n",
      "1      A\n",
      "2      A\n",
      "3      A\n",
      "4      A\n",
      "      ..\n",
      "230    W\n",
      "231    W\n",
      "232    Y\n",
      "233    Z\n",
      "234    Z\n",
      "Name: Country, Length: 235, dtype: object\n"
     ]
    }
   ],
   "source": [
    "res = countries.str.slice(1)\n",
    "res1 = countries.str.slice(0, 1)\n",
    "\n",
    "print(res)\n",
    "print(res1)"
   ]
  },
  {
   "cell_type": "markdown",
   "id": "cf17a84b-98e5-4df6-afa3-4216de251a86",
   "metadata": {},
   "source": [
    "3. Using a string column, slice out the last three characters."
   ]
  },
  {
   "cell_type": "code",
   "execution_count": 13,
   "id": "19fada95-8fa3-4fff-91a4-5808b1002bc9",
   "metadata": {},
   "outputs": [
    {
     "name": "stdout",
     "output_type": "stream",
     "text": [
      "0            Afghanis\n",
      "1                Alba\n",
      "2                Alge\n",
      "3         American Sa\n",
      "4                Ando\n",
      "            ...      \n",
      "230    Wallis and Fut\n",
      "231       Western Sah\n",
      "232                Ye\n",
      "233               Zam\n",
      "234             Zimba\n",
      "Name: Country, Length: 235, dtype: object\n",
      "0      tan\n",
      "1      nia\n",
      "2      ria\n",
      "3      moa\n",
      "4      rra\n",
      "      ... \n",
      "230    una\n",
      "231    ara\n",
      "232    men\n",
      "233    bia\n",
      "234    bwe\n",
      "Name: Country, Length: 235, dtype: object\n"
     ]
    }
   ],
   "source": [
    "res = countries.str.slice(0, -3, 1)\n",
    "res1 = countries.str.slice(-3)\n",
    "print(res)\n",
    "print(res1)"
   ]
  },
  {
   "cell_type": "markdown",
   "id": "12829405-dde4-4853-bc98-57b9ace2c80a",
   "metadata": {},
   "source": [
    "4. Using a string column, create a series extracting the numeric values.\n"
   ]
  },
  {
   "cell_type": "code",
   "execution_count": 34,
   "id": "c1a2ea88-230c-40f1-a975-dbe561b1e4bb",
   "metadata": {},
   "outputs": [
    {
     "name": "stdout",
     "output_type": "stream",
     "text": [
      "     0\n",
      "0    1\n",
      "1    2\n",
      "2    3\n",
      "3    4\n",
      "4  NaN\n"
     ]
    }
   ],
   "source": [
    "data = pd.Series(['string1', 'string2', 'string3', 'string4', 'string'])\n",
    "res = data.str.extract(r'([1234567890])')\n",
    "print(res)"
   ]
  },
  {
   "cell_type": "markdown",
   "id": "63df764d-975e-409b-89ac-7b645bb4a67c",
   "metadata": {},
   "source": [
    "5. Using a string column, create a series extracting the non-ASCII values.\n"
   ]
  },
  {
   "cell_type": "code",
   "execution_count": 35,
   "id": "c1984ccc-a72e-4e1f-b5b0-c58fae9f9e5a",
   "metadata": {},
   "outputs": [
    {
     "name": "stdout",
     "output_type": "stream",
     "text": [
      "0    string1\n",
      "1    한string\n",
      "2    string3\n",
      "3    string4\n",
      "4     string\n",
      "dtype: object\n",
      "     0\n",
      "0  NaN\n",
      "1    한\n",
      "2  NaN\n",
      "3  NaN\n",
      "4  NaN\n"
     ]
    }
   ],
   "source": [
    "data = pd.Series(['string1', '한string', 'string3', 'string4', 'string'])\n",
    "res = data.str.extract(r'([^\\x00-\\x7F])')\n",
    "print(data)\n",
    "print(res)"
   ]
  },
  {
   "cell_type": "markdown",
   "id": "a2a71a8e-43f4-4c1b-98d5-2727342d35a5",
   "metadata": {},
   "source": [
    "6. Using a string column, create a dataframe with the dummy columns for every character in\n",
    "the column."
   ]
  },
  {
   "cell_type": "code",
   "execution_count": 42,
   "id": "b443d938-c704-44b8-ae74-2fc2442ca7cf",
   "metadata": {},
   "outputs": [
    {
     "name": "stdout",
     "output_type": "stream",
     "text": [
      "   a  d  e  g  i  m  n  p  r  s  t  u\n",
      "0  0  0  0  0  1  0  1  1  1  0  1  0\n",
      "1  1  1  0  0  0  0  1  1  0  1  0  0\n",
      "2  0  0  1  1  0  0  0  0  0  0  1  0\n",
      "3  0  1  1  0  1  1  0  0  0  1  0  1\n",
      "4  0  0  0  1  1  0  1  0  1  1  1  0\n"
     ]
    }
   ],
   "source": [
    "data = pd.Series(['print', 'pandas', 'get', 'dummies', 'string'])\n",
    "res = data.str.get_dummies('')\n",
    "print(res)"
   ]
  },
  {
   "cell_type": "code",
   "execution_count": null,
   "id": "9f7e3e9e-6e86-4378-97c9-308c321d20af",
   "metadata": {},
   "outputs": [],
   "source": []
  }
 ],
 "metadata": {
  "kernelspec": {
   "display_name": "Python 3 (ipykernel)",
   "language": "python",
   "name": "python3"
  },
  "language_info": {
   "codemirror_mode": {
    "name": "ipython",
    "version": 3
   },
   "file_extension": ".py",
   "mimetype": "text/x-python",
   "name": "python",
   "nbconvert_exporter": "python",
   "pygments_lexer": "ipython3",
   "version": "3.9.10"
  }
 },
 "nbformat": 4,
 "nbformat_minor": 5
}
