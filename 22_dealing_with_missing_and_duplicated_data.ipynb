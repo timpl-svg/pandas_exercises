{
 "cells": [
  {
   "cell_type": "code",
   "execution_count": 1,
   "id": "4e2de5c2-9c03-4ea6-8005-82ba3681504e",
   "metadata": {},
   "outputs": [],
   "source": [
    "import pandas as pd\n",
    "\n",
    "df = pd.read_csv('datasets/vehicles.csv', low_memory=False)"
   ]
  },
  {
   "cell_type": "markdown",
   "id": "c04ff4dd-6937-4669-bc80-3669f5623eba",
   "metadata": {},
   "source": [
    "1. Find out which columns have missing data.\n"
   ]
  },
  {
   "cell_type": "code",
   "execution_count": 2,
   "id": "41463c1a-59b7-4f72-a0f4-88fdcf0384e8",
   "metadata": {},
   "outputs": [
    {
     "data": {
      "text/plain": [
       "barrels08     False\n",
       "barrelsA08    False\n",
       "charge120     False\n",
       "charge240     False\n",
       "city08        False\n",
       "              ...  \n",
       "modifiedOn    False\n",
       "startStop      True\n",
       "phevCity      False\n",
       "phevHwy       False\n",
       "phevComb      False\n",
       "Length: 83, dtype: bool"
      ]
     },
     "execution_count": 2,
     "metadata": {},
     "output_type": "execute_result"
    }
   ],
   "source": [
    "df.isna().any()"
   ]
  },
  {
   "cell_type": "markdown",
   "id": "555bbf47-4b64-4d18-894c-824823ccdd2f",
   "metadata": {},
   "source": [
    "2. Count the number of missing values for each column.\n"
   ]
  },
  {
   "cell_type": "code",
   "execution_count": 3,
   "id": "9631b09e-e157-4fed-afc1-f514f20465df",
   "metadata": {},
   "outputs": [
    {
     "data": {
      "text/plain": [
       "barrels08         0\n",
       "barrelsA08        0\n",
       "charge120         0\n",
       "charge240         0\n",
       "city08            0\n",
       "              ...  \n",
       "modifiedOn        0\n",
       "startStop     31704\n",
       "phevCity          0\n",
       "phevHwy           0\n",
       "phevComb          0\n",
       "Length: 83, dtype: int64"
      ]
     },
     "execution_count": 3,
     "metadata": {},
     "output_type": "execute_result"
    }
   ],
   "source": [
    "df.isna().sum()"
   ]
  },
  {
   "cell_type": "markdown",
   "id": "b3fb4ad1-3820-4769-af8a-acac47ec7017",
   "metadata": {},
   "source": [
    "3. Find the percentage of missing values for each column."
   ]
  },
  {
   "cell_type": "code",
   "execution_count": 4,
   "id": "e0621184-2f4c-41bd-8e6f-4995c087e7ef",
   "metadata": {},
   "outputs": [
    {
     "data": {
      "text/plain": [
       "barrels08      0.000000\n",
       "barrelsA08     0.000000\n",
       "charge120      0.000000\n",
       "charge240      0.000000\n",
       "city08         0.000000\n",
       "                ...    \n",
       "modifiedOn     0.000000\n",
       "startStop     77.056193\n",
       "phevCity       0.000000\n",
       "phevHwy        0.000000\n",
       "phevComb       0.000000\n",
       "Length: 83, dtype: float64"
      ]
     },
     "execution_count": 4,
     "metadata": {},
     "output_type": "execute_result"
    }
   ],
   "source": [
    "df.isna().mean().mul(100)"
   ]
  },
  {
   "cell_type": "markdown",
   "id": "7fc4f156-148a-42d3-9e3b-874c6b7746b1",
   "metadata": {},
   "source": [
    "4. Find the rows with missing data.\n"
   ]
  },
  {
   "cell_type": "code",
   "execution_count": 18,
   "id": "a781807a-522b-41ff-b6b7-6e2e0427f51f",
   "metadata": {},
   "outputs": [
    {
     "data": {
      "text/plain": [
       "0        True\n",
       "1        True\n",
       "2        True\n",
       "3        True\n",
       "4        True\n",
       "         ... \n",
       "41139    True\n",
       "41140    True\n",
       "41141    True\n",
       "41142    True\n",
       "41143    True\n",
       "Length: 41144, dtype: bool"
      ]
     },
     "execution_count": 18,
     "metadata": {},
     "output_type": "execute_result"
    }
   ],
   "source": [
    "df.isna().any(axis=1)"
   ]
  },
  {
   "cell_type": "markdown",
   "id": "6e947f89-b83c-45d8-822a-c209c68449b2",
   "metadata": {},
   "source": [
    "5. Find the rows that are duplicated"
   ]
  },
  {
   "cell_type": "code",
   "execution_count": 19,
   "id": "238b323f-5be8-46f7-a367-85b77fe93f42",
   "metadata": {},
   "outputs": [
    {
     "data": {
      "text/plain": [
       "0        False\n",
       "1        False\n",
       "2        False\n",
       "3        False\n",
       "4        False\n",
       "         ...  \n",
       "41139    False\n",
       "41140    False\n",
       "41141    False\n",
       "41142    False\n",
       "41143    False\n",
       "Length: 41144, dtype: bool"
      ]
     },
     "execution_count": 19,
     "metadata": {},
     "output_type": "execute_result"
    }
   ],
   "source": [
    "df.duplicated()"
   ]
  }
 ],
 "metadata": {
  "kernelspec": {
   "display_name": "Python 3 (ipykernel)",
   "language": "python",
   "name": "python3"
  },
  "language_info": {
   "codemirror_mode": {
    "name": "ipython",
    "version": 3
   },
   "file_extension": ".py",
   "mimetype": "text/x-python",
   "name": "python",
   "nbconvert_exporter": "python",
   "pygments_lexer": "ipython3",
   "version": "3.9.10"
  }
 },
 "nbformat": 4,
 "nbformat_minor": 5
}
