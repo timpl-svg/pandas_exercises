{
 "cells": [
  {
   "cell_type": "markdown",
   "id": "c5c8d570-113a-4192-a813-66a7add5b3dc",
   "metadata": {},
   "source": [
    "1. Using Jupyter, create a series with the temperature values for the last seven days. Filter out\n",
    "the values below the mean.\n"
   ]
  },
  {
   "cell_type": "code",
   "execution_count": 1,
   "id": "088c7a14-e977-47aa-99a0-1fd8c32c5b76",
   "metadata": {},
   "outputs": [
    {
     "name": "stdout",
     "output_type": "stream",
     "text": [
      "temperature values for the last seven days:\n",
      "Dec 1   -7\n",
      "Dec 2   -7\n",
      "Dec 3   -6\n",
      "Dec 4   -6\n",
      "Dec 5   -7\n",
      "Dec 6   -5\n",
      "Dec 7   -5\n",
      "dtype: int64\n",
      "mean temperature:  -6.14\n",
      "days when temperature was below the mean:\n",
      "Dec 1   -7\n",
      "Dec 2   -7\n",
      "Dec 5   -7\n",
      "dtype: int64\n"
     ]
    }
   ],
   "source": [
    "import pandas as pd\n",
    "\n",
    "index = [\"Dec \" + str(x) for x in range(1, 8)]\n",
    "weather = pd.Series([-7, -7, -6, -6, -7, -5, -5], index=index)\n",
    "print(\"temperature values for the last seven days:\")\n",
    "print(weather)\n",
    "print('mean temperature: ', round(weather.mean(), 2))\n",
    "days_below_the_mean = weather[weather < weather.mean()]\n",
    "print(\"days when temperature was below the mean:\")\n",
    "print(days_below_the_mean)"
   ]
  },
  {
   "cell_type": "markdown",
   "id": "27b1e8c9-fe55-4e03-ba59-5c9ae204ea25",
   "metadata": {},
   "source": [
    "2. Using Jupyter, create a series with your favorite colors. Use a categorical type."
   ]
  },
  {
   "cell_type": "code",
   "execution_count": 2,
   "id": "51b0a03d-0d46-4c61-9372-7fa441acf367",
   "metadata": {},
   "outputs": [
    {
     "name": "stdout",
     "output_type": "stream",
     "text": [
      "0     black\n",
      "1       red\n",
      "2     white\n",
      "3    purple\n",
      "dtype: category\n",
      "Categories (4, object): ['black', 'purple', 'red', 'white']\n"
     ]
    }
   ],
   "source": [
    "colors = pd.Series(['black', 'red', 'white', 'purple'], dtype=\"category\")\n",
    "print(colors)"
   ]
  },
  {
   "cell_type": "code",
   "execution_count": null,
   "id": "322db363-d01b-402f-a8e9-305d8b30f33e",
   "metadata": {},
   "outputs": [],
   "source": []
  }
 ],
 "metadata": {
  "kernelspec": {
   "display_name": "Python 3 (ipykernel)",
   "language": "python",
   "name": "python3"
  },
  "language_info": {
   "codemirror_mode": {
    "name": "ipython",
    "version": 3
   },
   "file_extension": ".py",
   "mimetype": "text/x-python",
   "name": "python",
   "nbconvert_exporter": "python",
   "pygments_lexer": "ipython3",
   "version": "3.9.10"
  }
 },
 "nbformat": 4,
 "nbformat_minor": 5
}
