{
 "cells": [
  {
   "cell_type": "markdown",
   "id": "db5ee199-3a4f-471c-b26e-332528e85a9d",
   "metadata": {},
   "source": [
    "1. Create a series from a numeric column that has the value of 'high' if it is equal to or above\n",
    "the mean and 'low' if it is below the mean using .apply."
   ]
  },
  {
   "cell_type": "code",
   "execution_count": 2,
   "id": "55add993-d760-478e-8dcb-f9c073c1e990",
   "metadata": {},
   "outputs": [
    {
     "name": "stdout",
     "output_type": "stream",
     "text": [
      "0      40099460\n",
      "1       2854710\n",
      "2      44177964\n",
      "3         45056\n",
      "4         79057\n",
      "         ...   \n",
      "230       11654\n",
      "231      565590\n",
      "232    32981644\n",
      "233    19473132\n",
      "234    15993525\n",
      "Name: Total, Length: 235, dtype: int64\n",
      "mean value: 33656533\n",
      "0      high\n",
      "1       low\n",
      "2      high\n",
      "3       low\n",
      "4       low\n",
      "       ... \n",
      "230     low\n",
      "231     low\n",
      "232     low\n",
      "233     low\n",
      "234     low\n",
      "Name: Total, Length: 235, dtype: object\n"
     ]
    }
   ],
   "source": [
    "import pandas as pd \n",
    "import numpy as np\n",
    "\n",
    "df = pd.read_csv('datasets/population_by_age_group.csv')\n",
    "total = df.Total\n",
    "print(total)\n",
    "mean_value = total.mean()\n",
    "\n",
    "def low_and_high(value):\n",
    "    if value >= mean_value:\n",
    "        return 'high'\n",
    "    else:\n",
    "        return 'low'\n",
    "\n",
    "print(\"mean value:\", round(mean_value))\n",
    "print(total.apply(low_and_high))"
   ]
  },
  {
   "cell_type": "markdown",
   "id": "ea14e1b4-4a6c-41d1-8d7b-7f07398af1df",
   "metadata": {},
   "source": [
    "2. Create a series from a numeric column that has the value of 'high' if it is equal to or above\n",
    "the mean and 'low' if it is below the mean using np.select."
   ]
  },
  {
   "cell_type": "code",
   "execution_count": 3,
   "id": "3e80418e-99f0-4ea5-a7b7-34c2ee0fb35f",
   "metadata": {},
   "outputs": [
    {
     "name": "stdout",
     "output_type": "stream",
     "text": [
      "0      high\n",
      "1       low\n",
      "2      high\n",
      "3       low\n",
      "4       low\n",
      "       ... \n",
      "230     low\n",
      "231     low\n",
      "232     low\n",
      "233     low\n",
      "234     low\n",
      "Length: 235, dtype: object\n"
     ]
    }
   ],
   "source": [
    "high = total >= mean_value\n",
    "low = total < mean_value\n",
    "arr = np.select([high, low], ['high', 'low'])\n",
    "res = pd.Series(arr)\n",
    "print(res)"
   ]
  },
  {
   "cell_type": "markdown",
   "id": "b6a77b71-ec53-4cc8-9acb-d0798addabc5",
   "metadata": {},
   "source": [
    "3. Time the differences between the previous two solutions to see which is faster."
   ]
  },
  {
   "cell_type": "code",
   "execution_count": 4,
   "id": "ee5c7d86-4d44-44d8-8886-de5928b9b33d",
   "metadata": {},
   "outputs": [
    {
     "name": "stdout",
     "output_type": "stream",
     "text": [
      "apply: 0.0009965896606445312\n",
      "select: 0.0010027885437011719\n"
     ]
    }
   ],
   "source": [
    "import time \n",
    "\n",
    "start1 = time.time()\n",
    "total.apply(low_and_high)\n",
    "end1 = time.time()\n",
    "\n",
    "time1 = end1 - start1\n",
    "\n",
    "start2 = time.time()\n",
    "high = total >= mean_value\n",
    "low = total < mean_value\n",
    "arr = np.select([high, low], ['high', 'low'])\n",
    "res = pd.Series(arr)\n",
    "end2 = time.time()\n",
    "\n",
    "time2 = end2 - start2\n",
    "\n",
    "print(\"apply:\", time1)\n",
    "print(\"select:\", time2)"
   ]
  },
  {
   "cell_type": "markdown",
   "id": "de1fa686-ac84-4488-b0d6-2168e0678909",
   "metadata": {},
   "source": [
    "4. Replace the missing values of a numeric series with the median value."
   ]
  },
  {
   "cell_type": "code",
   "execution_count": 5,
   "id": "4920ceb9-8fde-41cc-9e1b-e627f3a6621e",
   "metadata": {},
   "outputs": [
    {
     "name": "stdout",
     "output_type": "stream",
     "text": [
      "0    1.0\n",
      "1    2.0\n",
      "2    3.0\n",
      "3    4.0\n",
      "4    NaN\n",
      "5    NaN\n",
      "6    6.0\n",
      "7    7.0\n",
      "dtype: float64\n",
      "0    1.0\n",
      "1    2.0\n",
      "2    3.0\n",
      "3    4.0\n",
      "4    3.5\n",
      "5    3.5\n",
      "6    6.0\n",
      "7    7.0\n",
      "dtype: float64\n"
     ]
    }
   ],
   "source": [
    "s1 = pd.Series([1, 2, 3, 4, np.nan, np.nan, 6, 7])\n",
    "print(s1)\n",
    "res = s1.fillna(s1.median())\n",
    "print(res)"
   ]
  },
  {
   "cell_type": "markdown",
   "id": "0ae2c227-b8f2-46ce-9a1a-2de449580d46",
   "metadata": {},
   "source": [
    "5. Clip the values of a numeric series to between to 10th and 90th percentiles."
   ]
  },
  {
   "cell_type": "code",
   "execution_count": 6,
   "id": "d30abd5a-6dd9-41cf-a0cf-f8144c70e43c",
   "metadata": {},
   "outputs": [
    {
     "name": "stdout",
     "output_type": "stream",
     "text": [
      "0      40099460.0\n",
      "1       2854710.0\n",
      "2      44177964.0\n",
      "3         48379.8\n",
      "4         79057.0\n",
      "          ...    \n",
      "230       48379.8\n",
      "231      565590.0\n",
      "232    32981644.0\n",
      "233    19473132.0\n",
      "234    15993525.0\n",
      "Name: Total, Length: 235, dtype: float64\n"
     ]
    }
   ],
   "source": [
    "print(total.clip(lower=total.quantile(.1), upper=total.quantile(.9)))"
   ]
  },
  {
   "cell_type": "markdown",
   "id": "38288d2c-6427-43b9-a4df-9e4090c7803a",
   "metadata": {},
   "source": [
    "6. Using a categorical column, replace any value that is not in the top 5 most frequent values\n",
    "with 'Other'."
   ]
  },
  {
   "cell_type": "code",
   "execution_count": 17,
   "id": "e12f3bab-4d93-43fa-a21c-79a00dacdb50",
   "metadata": {},
   "outputs": [
    {
     "name": "stdout",
     "output_type": "stream",
     "text": [
      "0      40099460\n",
      "1       2854710\n",
      "2      44177964\n",
      "3         45056\n",
      "4         79057\n",
      "         ...   \n",
      "230       11654\n",
      "231      565590\n",
      "232    32981644\n",
      "233    19473132\n",
      "234    15993525\n",
      "Name: Total, Length: 235, dtype: int64\n",
      "0      40099460\n",
      "1       2854710\n",
      "2      44177964\n",
      "3         45056\n",
      "4         79057\n",
      "         ...   \n",
      "230       Other\n",
      "231       Other\n",
      "232       Other\n",
      "233       Other\n",
      "234       Other\n",
      "Name: Total, Length: 235, dtype: object\n"
     ]
    }
   ],
   "source": [
    "print(total)\n",
    "res = total.replace(total.tolist()[5:235], \"Other\")\n",
    "print(res)"
   ]
  },
  {
   "cell_type": "markdown",
   "id": "36ed016a-29dc-4998-a118-9532662d607d",
   "metadata": {},
   "source": [
    "7. Using a categorical column, replace any value that is not in the top 10 most frequent values\n",
    "with 'Other'."
   ]
  },
  {
   "cell_type": "code",
   "execution_count": 18,
   "id": "1124c2b3-0b1d-4150-aaaf-b03df0320b90",
   "metadata": {},
   "outputs": [
    {
     "name": "stdout",
     "output_type": "stream",
     "text": [
      "0      40099460\n",
      "1       2854710\n",
      "2      44177964\n",
      "3         45056\n",
      "4         79057\n",
      "         ...   \n",
      "230       11654\n",
      "231      565590\n",
      "232    32981644\n",
      "233    19473132\n",
      "234    15993525\n",
      "Name: Total, Length: 235, dtype: int64\n",
      "0      40099460\n",
      "1       2854710\n",
      "2      44177964\n",
      "3         45056\n",
      "4         79057\n",
      "         ...   \n",
      "230       Other\n",
      "231       Other\n",
      "232       Other\n",
      "233       Other\n",
      "234       Other\n",
      "Name: Total, Length: 235, dtype: object\n"
     ]
    }
   ],
   "source": [
    "print(total)\n",
    "res = total.replace(total.tolist()[10:235], \"Other\")\n",
    "print(res)"
   ]
  },
  {
   "cell_type": "markdown",
   "id": "7324dfc1-8f93-47b0-9471-e22e47f36bf9",
   "metadata": {},
   "source": [
    "8. Make a function that takes a categorical series and a number (n) and returns a replace series\n",
    "that replaces any value that is not in the top n most frequent values with 'Other'."
   ]
  },
  {
   "cell_type": "code",
   "execution_count": 19,
   "id": "580377f8-24be-4ad9-a5ef-683fff40768e",
   "metadata": {},
   "outputs": [
    {
     "name": "stdout",
     "output_type": "stream",
     "text": [
      "0      40099460\n",
      "1       2854710\n",
      "2      44177964\n",
      "3         45056\n",
      "4         79057\n",
      "         ...   \n",
      "230       11654\n",
      "231      565590\n",
      "232    32981644\n",
      "233       Other\n",
      "234       Other\n",
      "Name: Total, Length: 235, dtype: object\n"
     ]
    }
   ],
   "source": [
    "def replace_any(series, n):\n",
    "    res = series.replace(series.tolist()[n:series.size], \"Other\")\n",
    "    return res\n",
    "\n",
    "res = (replace_any(total, 233))\n",
    "print(res)"
   ]
  },
  {
   "cell_type": "markdown",
   "id": "3ab71320-852c-4473-96ab-42e5c88800dd",
   "metadata": {},
   "source": [
    "9. Using a numeric column, bin it into 10 groups that have the same width."
   ]
  },
  {
   "cell_type": "code",
   "execution_count": 20,
   "id": "3de5b89a-8e86-4aac-a388-be06f09fc64c",
   "metadata": {},
   "outputs": [
    {
     "name": "stdout",
     "output_type": "stream",
     "text": [
      "0      (-1424022.631, 142591032.1]\n",
      "1      (-1424022.631, 142591032.1]\n",
      "2      (-1424022.631, 142591032.1]\n",
      "3      (-1424022.631, 142591032.1]\n",
      "4      (-1424022.631, 142591032.1]\n",
      "                  ...             \n",
      "230    (-1424022.631, 142591032.1]\n",
      "231    (-1424022.631, 142591032.1]\n",
      "232    (-1424022.631, 142591032.1]\n",
      "233    (-1424022.631, 142591032.1]\n",
      "234    (-1424022.631, 142591032.1]\n",
      "Name: Total, Length: 235, dtype: category\n",
      "Categories (10, interval[float64, right]): [(-1424022.631, 142591032.1] < (142591032.1, 285180195.2] < (285180195.2, 427769358.3] < (427769358.3, 570358521.4] ... (855536847.6, 998126010.7] < (998126010.7, 1140715173.8] < (1140715173.8, 1283304336.9] < (1283304336.9, 1425893500.0]]\n"
     ]
    }
   ],
   "source": [
    "res = pd.cut(total, 10)\n",
    "print(res)"
   ]
  },
  {
   "cell_type": "markdown",
   "id": "2e1a6dcc-2703-40b4-80d7-6f6d82ddcedf",
   "metadata": {},
   "source": [
    "10. Using a numeric column, bin it into 10 groups that have equal sized bins.\n"
   ]
  },
  {
   "cell_type": "code",
   "execution_count": 21,
   "id": "d3b00ab2-17bc-4177-8bdc-9c5d3070fa96",
   "metadata": {},
   "outputs": [
    {
     "name": "stdout",
     "output_type": "stream",
     "text": [
      "0      (32228266.4, 59331488.0]\n",
      "1        (2747286.8, 5457165.0]\n",
      "2      (32228266.4, 59331488.0]\n",
      "3           (1868.999, 48379.8]\n",
      "4           (48379.8, 222250.6]\n",
      "                 ...           \n",
      "230         (1868.999, 48379.8]\n",
      "231        (222250.6, 807983.2]\n",
      "232    (32228266.4, 59331488.0]\n",
      "233    (17027815.6, 32228266.4]\n",
      "234     (9725901.6, 17027815.6]\n",
      "Name: Total, Length: 235, dtype: category\n",
      "Categories (10, interval[float64, right]): [(1868.999, 48379.8] < (48379.8, 222250.6] < (222250.6, 807983.2] < (807983.2, 2747286.8] ... (9725901.6, 17027815.6] < (17027815.6, 32228266.4] < (32228266.4, 59331488.0] < (59331488.0, 1425893500.0]]\n"
     ]
    }
   ],
   "source": [
    "res = pd.qcut(total, 10)\n",
    "print(res)"
   ]
  }
 ],
 "metadata": {
  "kernelspec": {
   "display_name": "Python 3 (ipykernel)",
   "language": "python",
   "name": "python3"
  },
  "language_info": {
   "codemirror_mode": {
    "name": "ipython",
    "version": 3
   },
   "file_extension": ".py",
   "mimetype": "text/x-python",
   "name": "python",
   "nbconvert_exporter": "python",
   "pygments_lexer": "ipython3",
   "version": "3.9.10"
  },
  "vscode": {
   "interpreter": {
    "hash": "8a084ae32d83dea783e539ade4977bec6e44d6c272e4b6d06f47ece5313a6ab3"
   }
  }
 },
 "nbformat": 4,
 "nbformat_minor": 5
}
