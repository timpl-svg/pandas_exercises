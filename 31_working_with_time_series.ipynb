{
 "cells": [
  {
   "cell_type": "code",
   "execution_count": 2,
   "id": "3ac96fbd-f486-4afd-ad8d-0af487a33108",
   "metadata": {},
   "outputs": [],
   "source": [
    "import pandas as pd\n",
    "df = pd.read_csv('datasets/dirtydevil.txt', skiprows=lambda num: num < 34 or num == 35, sep='\\t', low_memory=False)\n"
   ]
  },
  {
   "cell_type": "markdown",
   "id": "2fd8bbb4-e722-452f-8154-b2a270b5eed8",
   "metadata": {},
   "source": [
    "1. Convert a date column from a string to a proper date.\n"
   ]
  },
  {
   "cell_type": "code",
   "execution_count": 31,
   "id": "db0ee2fb-69d0-4abb-8aa8-ba1a2193d477",
   "metadata": {},
   "outputs": [
    {
     "name": "stdout",
     "output_type": "stream",
     "text": [
      "        date  data\n",
      "0 2017-06-02     1\n",
      "1 2017-05-23     2\n",
      "2 2017-05-20     3\n"
     ]
    }
   ],
   "source": [
    "df2 = pd.DataFrame({\n",
    "    'date': ['6/2/2017', '5/23/2017', '5/20/2017'],\n",
    "    'data': [1, 2, 3]})\n",
    "df2['date'] = pd.to_datetime(df2['date'])\n",
    "print(df2)"
   ]
  },
  {
   "cell_type": "markdown",
   "id": "6511d794-f0e7-4423-aa3e-a6a0746b1552",
   "metadata": {},
   "source": [
    "2. Group the data by month names and look at the mean values.\n"
   ]
  },
  {
   "cell_type": "code",
   "execution_count": 34,
   "id": "b06db4af-d9e8-4da1-b702-8fb09a9990de",
   "metadata": {},
   "outputs": [
    {
     "name": "stdout",
     "output_type": "stream",
     "text": [
      "      data\n",
      "date      \n",
      "May    2.5\n",
      "June   1.0\n"
     ]
    }
   ],
   "source": [
    "dg = df2.groupby(pd.Grouper(key='date', freq='1M')).mean()\n",
    "dg.index = dg.index.strftime('%B')\n",
    "print(dg)"
   ]
  },
  {
   "cell_type": "markdown",
   "id": "cf9d3226-1cb6-4e52-852c-2ebdf50a087c",
   "metadata": {},
   "source": [
    "3. Group the data by each month of every year and look at the mean values."
   ]
  },
  {
   "cell_type": "code",
   "execution_count": 5,
   "id": "f249a6f3-e961-4fd8-afc6-bcbe1a7c8deb",
   "metadata": {},
   "outputs": [
    {
     "name": "stdout",
     "output_type": "stream",
     "text": [
      "            data\n",
      "date            \n",
      "2017-05-31   2.5\n",
      "2017-06-30   1.0\n",
      "2017-07-31   NaN\n",
      "2017-08-31   NaN\n",
      "2017-09-30   NaN\n",
      "2017-10-31   NaN\n",
      "2017-11-30   NaN\n",
      "2017-12-31   NaN\n",
      "2018-01-31   NaN\n",
      "2018-02-28   NaN\n",
      "2018-03-31   NaN\n",
      "2018-04-30   NaN\n",
      "2018-05-31   5.5\n",
      "2018-06-30   4.0\n"
     ]
    }
   ],
   "source": [
    "df3 = pd.DataFrame({\n",
    "    'date': ['6/2/2017', '5/23/2017', '5/20/2017', '6/2/2018', '5/23/2018', '5/20/2018'],\n",
    "    'data': [1, 2, 3, 4, 5, 6]})\n",
    "df3['date'] = pd.to_datetime(df3['date'])\n",
    "dg = df3.groupby(pd.Grouper(key='date', freq='1M')).mean()\n",
    "\n",
    "print(dg)"
   ]
  },
  {
   "cell_type": "markdown",
   "id": "d92254fb-88c4-44c8-b10c-a6b249ccccd7",
   "metadata": {},
   "source": [
    "4. Insert the date column in the index and slice out a portion of the rows by date."
   ]
  },
  {
   "cell_type": "code",
   "execution_count": 25,
   "id": "10d6f146-26d6-40de-88aa-8d28955fd5d0",
   "metadata": {},
   "outputs": [
    {
     "data": {
      "text/plain": [
       "datetime\n",
       "2018-01-01 00:00:00    92.80\n",
       "2018-01-01 00:15:00    88.30\n",
       "2018-01-01 00:30:00    90.50\n",
       "2018-01-01 00:45:00    90.50\n",
       "2018-01-01 01:00:00    94.00\n",
       "                       ...  \n",
       "2020-09-28 08:30:00     9.53\n",
       "2020-09-28 08:45:00     9.20\n",
       "2020-09-28 09:00:00     9.20\n",
       "2020-09-28 09:15:00     9.20\n",
       "2020-09-28 09:30:00     9.20\n",
       "Name: cfs, Length: 95886, dtype: float64"
      ]
     },
     "execution_count": 25,
     "metadata": {},
     "output_type": "execute_result"
    }
   ],
   "source": [
    "def tweak_river(df_):\n",
    "    return (df_.assign(datetime=pd.to_datetime(df_.datetime))\n",
    "           .rename(columns={'144166_00060': 'cfs',\n",
    "                            '144167_00065': 'gage_height'})\n",
    "           .set_index('datetime')\n",
    "           )\n",
    "\n",
    "dd = tweak_river(df)\n",
    "dd.cfs.loc['2018':]"
   ]
  },
  {
   "cell_type": "code",
   "execution_count": null,
   "id": "7ad34c62-15ca-436d-8e31-89a51f1c6b8a",
   "metadata": {},
   "outputs": [],
   "source": []
  }
 ],
 "metadata": {
  "kernelspec": {
   "display_name": "Python 3 (ipykernel)",
   "language": "python",
   "name": "python3"
  },
  "language_info": {
   "codemirror_mode": {
    "name": "ipython",
    "version": 3
   },
   "file_extension": ".py",
   "mimetype": "text/x-python",
   "name": "python",
   "nbconvert_exporter": "python",
   "pygments_lexer": "ipython3",
   "version": "3.9.10"
  }
 },
 "nbformat": 4,
 "nbformat_minor": 5
}
