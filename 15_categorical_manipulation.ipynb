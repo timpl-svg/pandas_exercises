{
 "cells": [
  {
   "cell_type": "code",
   "execution_count": 1,
   "id": "2f127aa3-5d23-41ef-a0d5-6c7ea90c93cc",
   "metadata": {},
   "outputs": [],
   "source": [
    "import pandas as pd\n",
    "\n",
    "df = pd.read_csv('datasets/population_by_age_group.csv')\n",
    "countries = df.Country\n",
    "total = df.Total"
   ]
  },
  {
   "cell_type": "markdown",
   "id": "1934ba8a-0480-4717-87f2-f97e968934b6",
   "metadata": {},
   "source": [
    "1. Convert a text column into a categorical column. How much memory did you save?"
   ]
  },
  {
   "cell_type": "code",
   "execution_count": 2,
   "id": "337e3451-ff00-40c4-899e-0ed3a85f1870",
   "metadata": {},
   "outputs": [
    {
     "name": "stdout",
     "output_type": "stream",
     "text": [
      "15693\n",
      "24459\n"
     ]
    }
   ],
   "source": [
    "print(countries.memory_usage(deep=True))\n",
    "cat_countries = countries.astype('category')\n",
    "print(cat_countries.memory_usage(deep=True))"
   ]
  },
  {
   "cell_type": "markdown",
   "id": "1917e98b-573c-4673-a1c0-159f8ff814d3",
   "metadata": {},
   "source": [
    "2. Convert a numeric column into a categorical column by binning it (pd.cut). How much\n",
    "memory did you save?"
   ]
  },
  {
   "cell_type": "code",
   "execution_count": 6,
   "id": "ed599dff-0ba7-412b-ba2d-c468ee191327",
   "metadata": {},
   "outputs": [
    {
     "name": "stdout",
     "output_type": "stream",
     "text": [
      "0      (-1424022.631, 1425893500.0]\n",
      "1      (-1424022.631, 1425893500.0]\n",
      "2      (-1424022.631, 1425893500.0]\n",
      "3      (-1424022.631, 1425893500.0]\n",
      "4      (-1424022.631, 1425893500.0]\n",
      "                   ...             \n",
      "230    (-1424022.631, 1425893500.0]\n",
      "231    (-1424022.631, 1425893500.0]\n",
      "232    (-1424022.631, 1425893500.0]\n",
      "233    (-1424022.631, 1425893500.0]\n",
      "234    (-1424022.631, 1425893500.0]\n",
      "Name: Total, Length: 235, dtype: category\n",
      "Categories (1, interval[float64, right]): [(-1424022.631, 1425893500.0]]\n",
      "2008\n",
      "487\n"
     ]
    }
   ],
   "source": [
    "binned = pd.cut(total, 1)\n",
    "print(binned)\n",
    "print(total.memory_usage(deep=True))\n",
    "print(binned.memory_usage(deep=True))"
   ]
  },
  {
   "cell_type": "markdown",
   "id": "00ac9edf-aab6-4f2d-a3b1-de69ec652d4c",
   "metadata": {},
   "source": [
    "3. Use the generalize_topn function to limit the amounts of categories in your column. How\n",
    "much memory did you save?"
   ]
  },
  {
   "cell_type": "code",
   "execution_count": 9,
   "id": "e9eb765a-dc39-4f07-b001-44a3d3af516d",
   "metadata": {},
   "outputs": [
    {
     "name": "stdout",
     "output_type": "stream",
     "text": [
      "24459\n",
      "2313\n"
     ]
    }
   ],
   "source": [
    "def generalize_topn ( ser , n =5 , other = ' Other '):\n",
    "    topn = ser . value_counts (). index [: n ]\n",
    "    if isinstance (ser.dtype , pd . CategoricalDtype ):\n",
    "        ser = ser . cat . set_categories (topn . set_categories ( list ( topn )+[ other ]))\n",
    "    return ser . where ( ser . isin ( topn ) , other )\n",
    "\n",
    "generalized = cat_countries.pipe(generalize_topn, n=20, other='NA')\n",
    "print(cat_countries.memory_usage(deep=True))\n",
    "print(generalized.memory_usage(deep=True))\n"
   ]
  },
  {
   "cell_type": "code",
   "execution_count": null,
   "id": "be8802fc-b13e-4337-b49b-807b145d0951",
   "metadata": {},
   "outputs": [],
   "source": []
  }
 ],
 "metadata": {
  "kernelspec": {
   "display_name": "Python 3 (ipykernel)",
   "language": "python",
   "name": "python3"
  },
  "language_info": {
   "codemirror_mode": {
    "name": "ipython",
    "version": 3
   },
   "file_extension": ".py",
   "mimetype": "text/x-python",
   "name": "python",
   "nbconvert_exporter": "python",
   "pygments_lexer": "ipython3",
   "version": "3.9.10"
  }
 },
 "nbformat": 4,
 "nbformat_minor": 5
}
